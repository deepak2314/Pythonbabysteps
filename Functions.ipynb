{
  "nbformat": 4,
  "nbformat_minor": 0,
  "metadata": {
    "colab": {
      "provenance": []
    },
    "kernelspec": {
      "name": "python3",
      "display_name": "Python 3"
    },
    "language_info": {
      "name": "python"
    }
  },
  "cells": [
    {
      "cell_type": "code",
      "execution_count": null,
      "metadata": {
        "id": "QJitMcB3BmD9"
      },
      "outputs": [],
      "source": [
        "#Functions\n",
        "\n",
        "def my_life():\n",
        "  print(\"Full of hard work\")\n",
        "  print(\"Full of suprise\")\n",
        "  print(\"Full of Failures\")"
      ]
    },
    {
      "cell_type": "code",
      "source": [
        "my_life()"
      ],
      "metadata": {
        "colab": {
          "base_uri": "https://localhost:8080/"
        },
        "id": "dZ-H-OiiZDmF",
        "outputId": "eb7bd276-a4d2-4350-cc2b-b2a2b961f260"
      },
      "execution_count": null,
      "outputs": [
        {
          "output_type": "stream",
          "name": "stdout",
          "text": [
            "Full of hard work\n",
            "Full of suprise\n",
            "Full of Failures\n"
          ]
        }
      ]
    },
    {
      "cell_type": "markdown",
      "source": [
        "def function_name(arguments):\n",
        "  "
      ],
      "metadata": {
        "id": "RDVyqkV9aHH-"
      }
    },
    {
      "cell_type": "code",
      "source": [
        "def make_tea():\n",
        "  print(\"Make hot tea\")"
      ],
      "metadata": {
        "id": "pS6ZA8Jka7JX"
      },
      "execution_count": null,
      "outputs": []
    },
    {
      "cell_type": "code",
      "source": [
        "make_tea()\n"
      ],
      "metadata": {
        "colab": {
          "base_uri": "https://localhost:8080/"
        },
        "id": "EJicDKjNZMyz",
        "outputId": "b9b3451e-f223-43e5-fea0-4dd06da8a43a"
      },
      "execution_count": null,
      "outputs": [
        {
          "output_type": "stream",
          "name": "stdout",
          "text": [
            "Make hot tea\n"
          ]
        }
      ]
    },
    {
      "cell_type": "code",
      "source": [
        "for i in range(5):\n",
        "  make_tea()"
      ],
      "metadata": {
        "colab": {
          "base_uri": "https://localhost:8080/"
        },
        "id": "KantIkMobr_a",
        "outputId": "aa8aa020-3d00-429a-d502-0986e73f362c"
      },
      "execution_count": null,
      "outputs": [
        {
          "output_type": "stream",
          "name": "stdout",
          "text": [
            "Make hot tea\n",
            "Make hot tea\n",
            "Make hot tea\n",
            "Make hot tea\n",
            "Make hot tea\n"
          ]
        }
      ]
    },
    {
      "cell_type": "code",
      "source": [
        "name = input()\n",
        "\n",
        "print(\"knock knock knock\", name)"
      ],
      "metadata": {
        "colab": {
          "base_uri": "https://localhost:8080/"
        },
        "id": "vrUVAuPKeCf7",
        "outputId": "0a5a50da-3450-481a-b9ae-94e1ac881859"
      },
      "execution_count": null,
      "outputs": [
        {
          "output_type": "stream",
          "name": "stdout",
          "text": [
            "Deepak\n",
            "knock knock knock Deepak\n"
          ]
        }
      ]
    },
    {
      "cell_type": "code",
      "source": [
        "def sheldon_knock(name):\n",
        "  print(\"knock knock knock\",name)"
      ],
      "metadata": {
        "id": "bMwiNzh2fQwy"
      },
      "execution_count": null,
      "outputs": []
    },
    {
      "cell_type": "code",
      "source": [
        "name = input()\n",
        "\n",
        "sheldon_knock(name)"
      ],
      "metadata": {
        "colab": {
          "base_uri": "https://localhost:8080/"
        },
        "id": "DttnTxEjf6Pp",
        "outputId": "19c28485-87fa-4320-f357-80e8d48f0ff9"
      },
      "execution_count": null,
      "outputs": [
        {
          "output_type": "stream",
          "name": "stdout",
          "text": [
            "Deepak\n",
            "knock knock knock Deepak\n"
          ]
        }
      ]
    },
    {
      "cell_type": "code",
      "source": [
        "def wishing_function(name):\n",
        "  print(\"Hello\", name)\n"
      ],
      "metadata": {
        "id": "WuIdVnDHf_B0"
      },
      "execution_count": null,
      "outputs": []
    },
    {
      "cell_type": "code",
      "source": [
        "name = input()\n",
        "\n",
        "wishing_function(name)"
      ],
      "metadata": {
        "colab": {
          "base_uri": "https://localhost:8080/"
        },
        "id": "9Qh7HV_Vhvyc",
        "outputId": "96b77fb9-0d64-4f42-c981-05688becbafd"
      },
      "execution_count": null,
      "outputs": [
        {
          "output_type": "stream",
          "name": "stdout",
          "text": [
            "Deepak\n",
            "Hello Deepak\n"
          ]
        }
      ]
    },
    {
      "cell_type": "code",
      "source": [
        "def car_specs(colour, brand, price):\n",
        "  print(\"colour is :\", colour)\n",
        "  print(\"brand is :\", brand)\n",
        "  print(\"price is :\", price)"
      ],
      "metadata": {
        "id": "IpX7_gABh1mv"
      },
      "execution_count": null,
      "outputs": []
    },
    {
      "cell_type": "code",
      "source": [
        "colour = input()\n",
        "brand = input()\n",
        "price = input()\n",
        "\n",
        "car_specs(colour, brand, price)"
      ],
      "metadata": {
        "colab": {
          "base_uri": "https://localhost:8080/"
        },
        "id": "GnTEjXXtoKhc",
        "outputId": "444a3f00-7457-4bbc-c3b2-7f4c04ba74bd"
      },
      "execution_count": null,
      "outputs": [
        {
          "output_type": "stream",
          "name": "stdout",
          "text": [
            "red\n",
            "maruti\n",
            "5 lakh\n",
            "colour is : red\n",
            "brand is : maruti\n",
            "price is : 5 lakh\n"
          ]
        }
      ]
    },
    {
      "cell_type": "code",
      "source": [
        "car_specs(\"blue\", \"maruti\", 1000000)"
      ],
      "metadata": {
        "colab": {
          "base_uri": "https://localhost:8080/"
        },
        "id": "bROuGuoJoQws",
        "outputId": "0e442397-1298-461a-a934-5715f3577596"
      },
      "execution_count": null,
      "outputs": [
        {
          "output_type": "stream",
          "name": "stdout",
          "text": [
            "colour is : blue\n",
            "brand is : maruti\n",
            "price is : 1000000\n"
          ]
        }
      ]
    },
    {
      "cell_type": "code",
      "source": [
        "help(car_specs)"
      ],
      "metadata": {
        "colab": {
          "base_uri": "https://localhost:8080/"
        },
        "id": "iT0Y3O1Vokp6",
        "outputId": "4d8df322-65e5-40d4-d95a-324797ac0b6d"
      },
      "execution_count": null,
      "outputs": [
        {
          "output_type": "stream",
          "name": "stdout",
          "text": [
            "Help on function car_specs in module __main__:\n",
            "\n",
            "car_specs(colour, brand, price)\n",
            "\n"
          ]
        }
      ]
    },
    {
      "cell_type": "code",
      "source": [
        "def add(a,b):\n",
        "  res = a+b\n",
        "  print(res)"
      ],
      "metadata": {
        "id": "NfGPOdo-1xDa"
      },
      "execution_count": null,
      "outputs": []
    },
    {
      "cell_type": "code",
      "source": [
        "add(10,20)"
      ],
      "metadata": {
        "colab": {
          "base_uri": "https://localhost:8080/"
        },
        "id": "XkX9JWNl2U2i",
        "outputId": "7c24881e-4330-4f45-e608-d8c4c8ac5a64"
      },
      "execution_count": null,
      "outputs": [
        {
          "output_type": "stream",
          "name": "stdout",
          "text": [
            "30\n"
          ]
        }
      ]
    },
    {
      "cell_type": "code",
      "source": [
        "help(print)"
      ],
      "metadata": {
        "colab": {
          "base_uri": "https://localhost:8080/"
        },
        "id": "3A3N_Wyv2XdL",
        "outputId": "e56a230e-2a26-42f8-dd2b-87588b6ca691"
      },
      "execution_count": null,
      "outputs": [
        {
          "output_type": "stream",
          "name": "stdout",
          "text": [
            "Help on built-in function print in module builtins:\n",
            "\n",
            "print(...)\n",
            "    print(value, ..., sep=' ', end='\\n', file=sys.stdout, flush=False)\n",
            "    \n",
            "    Prints the values to a stream, or to sys.stdout by default.\n",
            "    Optional keyword arguments:\n",
            "    file:  a file-like object (stream); defaults to the current sys.stdout.\n",
            "    sep:   string inserted between values, default a space.\n",
            "    end:   string appended after the last value, default a newline.\n",
            "    flush: whether to forcibly flush the stream.\n",
            "\n"
          ]
        }
      ]
    },
    {
      "cell_type": "code",
      "source": [
        "def accept_money(amount):\n",
        "  print(2*amount)"
      ],
      "metadata": {
        "id": "P5xDrhAz4YNB"
      },
      "execution_count": null,
      "outputs": []
    },
    {
      "cell_type": "code",
      "source": [
        "accept_money(2000)"
      ],
      "metadata": {
        "colab": {
          "base_uri": "https://localhost:8080/"
        },
        "id": "JC7KX9DxIpN9",
        "outputId": "7f1f6a7c-3f34-408a-eb4f-6353f589289c"
      },
      "execution_count": null,
      "outputs": [
        {
          "output_type": "stream",
          "name": "stdout",
          "text": [
            "4000\n"
          ]
        }
      ]
    },
    {
      "cell_type": "code",
      "source": [
        "wallet = accept_money(2000)"
      ],
      "metadata": {
        "colab": {
          "base_uri": "https://localhost:8080/"
        },
        "id": "4KevIBN_IsHp",
        "outputId": "a169ac09-1c56-472e-ad9e-bafb4325a3f7"
      },
      "execution_count": null,
      "outputs": [
        {
          "output_type": "stream",
          "name": "stdout",
          "text": [
            "4000\n"
          ]
        }
      ]
    },
    {
      "cell_type": "code",
      "source": [
        "print(wallet)"
      ],
      "metadata": {
        "colab": {
          "base_uri": "https://localhost:8080/"
        },
        "id": "6_VEAbaWIy7D",
        "outputId": "20ba2f11-b58a-4ddc-8cd2-a6fbbabacf3c"
      },
      "execution_count": null,
      "outputs": [
        {
          "output_type": "stream",
          "name": "stdout",
          "text": [
            "None\n"
          ]
        }
      ]
    },
    {
      "cell_type": "code",
      "source": [
        "def value(a):\n",
        "  print(a)\n",
        "  return(a)\n",
        "\n",
        "  print(2*a)"
      ],
      "metadata": {
        "id": "IEY2Epi7I00I"
      },
      "execution_count": null,
      "outputs": []
    },
    {
      "cell_type": "code",
      "source": [
        "def make_coffee(base):\n",
        "  print(\"milk\")\n",
        "  return(\"milk\")\n",
        "\n",
        "  print(\"milk\")\n",
        "\n"
      ],
      "metadata": {
        "id": "S3ileRR4LVpY"
      },
      "execution_count": null,
      "outputs": []
    },
    {
      "cell_type": "code",
      "source": [
        "make_coffee(\"water\")"
      ],
      "metadata": {
        "colab": {
          "base_uri": "https://localhost:8080/",
          "height": 53
        },
        "id": "boxvLefeN6_G",
        "outputId": "f8ac1da3-ab1e-4c06-a227-5c8f2d3910c4"
      },
      "execution_count": null,
      "outputs": [
        {
          "output_type": "stream",
          "name": "stdout",
          "text": [
            "milk\n"
          ]
        },
        {
          "output_type": "execute_result",
          "data": {
            "text/plain": [
              "'milk'"
            ],
            "application/vnd.google.colaboratory.intrinsic+json": {
              "type": "string"
            }
          },
          "metadata": {},
          "execution_count": 30
        }
      ]
    },
    {
      "cell_type": "code",
      "source": [
        "def python(a):\n",
        "  print(a)"
      ],
      "metadata": {
        "id": "dEw4Hb2zN95Y"
      },
      "execution_count": null,
      "outputs": []
    },
    {
      "cell_type": "code",
      "source": [
        "python(10)"
      ],
      "metadata": {
        "colab": {
          "base_uri": "https://localhost:8080/"
        },
        "id": "btJyprEDPdVN",
        "outputId": "f848d2ff-5c58-496a-a056-98d75e3cf393"
      },
      "execution_count": null,
      "outputs": [
        {
          "output_type": "stream",
          "name": "stdout",
          "text": [
            "10\n"
          ]
        }
      ]
    },
    {
      "cell_type": "code",
      "source": [
        "def train(a):\n",
        "  return(10)"
      ],
      "metadata": {
        "id": "lS4gDhIbPfSw"
      },
      "execution_count": null,
      "outputs": []
    },
    {
      "cell_type": "code",
      "source": [
        "train(20)"
      ],
      "metadata": {
        "colab": {
          "base_uri": "https://localhost:8080/"
        },
        "id": "Rj4bi7duPknf",
        "outputId": "26ccec3c-4bf7-4148-b491-1cc6d236c7f5"
      },
      "execution_count": null,
      "outputs": [
        {
          "output_type": "execute_result",
          "data": {
            "text/plain": [
              "10"
            ]
          },
          "metadata": {},
          "execution_count": 35
        }
      ]
    },
    {
      "cell_type": "markdown",
      "source": [
        "when we print after using return, we don't have to pass any input, it is returning the function value but for print inside function we need to pass value every time and value is not assigned to function\n"
      ],
      "metadata": {
        "id": "K1qvH1ekQi-m"
      }
    },
    {
      "cell_type": "code",
      "source": [
        "def training(a):\n",
        "  print(\"before return function\")\n",
        "  return(1200)\n",
        "  print(\"after return function\")"
      ],
      "metadata": {
        "id": "WeXxYikFQwmO"
      },
      "execution_count": null,
      "outputs": []
    },
    {
      "cell_type": "code",
      "source": [
        "training(1800)"
      ],
      "metadata": {
        "colab": {
          "base_uri": "https://localhost:8080/"
        },
        "id": "JodL2NnOUYg7",
        "outputId": "f2ae60c3-3999-485c-fbd1-5cb906966a92"
      },
      "execution_count": null,
      "outputs": [
        {
          "output_type": "stream",
          "name": "stdout",
          "text": [
            "before return function\n"
          ]
        },
        {
          "output_type": "execute_result",
          "data": {
            "text/plain": [
              "1200"
            ]
          },
          "metadata": {},
          "execution_count": 37
        }
      ]
    },
    {
      "cell_type": "code",
      "source": [
        "type(1000)"
      ],
      "metadata": {
        "colab": {
          "base_uri": "https://localhost:8080/"
        },
        "id": "APbNTP9uUfNJ",
        "outputId": "da4d1f8c-558c-4caa-8cf4-640d48ece3a1"
      },
      "execution_count": null,
      "outputs": [
        {
          "output_type": "execute_result",
          "data": {
            "text/plain": [
              "int"
            ]
          },
          "metadata": {},
          "execution_count": 38
        }
      ]
    },
    {
      "cell_type": "code",
      "source": [
        "max(1,2,3,5)"
      ],
      "metadata": {
        "colab": {
          "base_uri": "https://localhost:8080/"
        },
        "id": "tMGcldr4VIPM",
        "outputId": "60838d71-ed47-41dd-f496-398afda38892"
      },
      "execution_count": null,
      "outputs": [
        {
          "output_type": "execute_result",
          "data": {
            "text/plain": [
              "5"
            ]
          },
          "metadata": {},
          "execution_count": 39
        }
      ]
    },
    {
      "cell_type": "code",
      "source": [
        "def birthday_date(date):\n",
        "  print(\"Happy Birthday\")\n",
        "\n",
        "  return birthday_date\n",
        "\n",
        "date = int(input())\n",
        "\n",
        "birthday_date(date)"
      ],
      "metadata": {
        "colab": {
          "base_uri": "https://localhost:8080/"
        },
        "id": "8zNOLoDeVsan",
        "outputId": "6240294b-bf95-4e8c-8902-b1eabbc24734"
      },
      "execution_count": null,
      "outputs": [
        {
          "output_type": "stream",
          "name": "stdout",
          "text": [
            "23\n",
            "Happy Birthday\n"
          ]
        },
        {
          "output_type": "execute_result",
          "data": {
            "text/plain": [
              "<function __main__.birthday_date(date)>"
            ]
          },
          "metadata": {},
          "execution_count": 40
        }
      ]
    },
    {
      "cell_type": "code",
      "source": [
        "def value(a):\n",
        "  \n",
        "  a = 2*a\n",
        "\n",
        "  return(a)\n",
        "\n",
        "a = int(input())\n",
        "\n",
        "value(a)"
      ],
      "metadata": {
        "colab": {
          "base_uri": "https://localhost:8080/"
        },
        "id": "NbTbHOukWzsY",
        "outputId": "21262572-1022-4bfb-ad60-913e79243696"
      },
      "execution_count": null,
      "outputs": [
        {
          "name": "stdout",
          "output_type": "stream",
          "text": [
            "12\n"
          ]
        },
        {
          "output_type": "execute_result",
          "data": {
            "text/plain": [
              "24"
            ]
          },
          "metadata": {},
          "execution_count": 43
        }
      ]
    },
    {
      "cell_type": "code",
      "source": [
        "def value(a):\n",
        "\n",
        "  n = 0\n",
        "\n",
        "  n = n*2\n",
        "\n",
        "  n = int(input())\n",
        "\n",
        "  return(a)"
      ],
      "metadata": {
        "id": "I9Si6fO0vv6x"
      },
      "execution_count": null,
      "outputs": []
    },
    {
      "cell_type": "code",
      "source": [
        "def simple_int(time,pa,ir):\n",
        "    ''' time, pa, ir represents the time in number of days, principal amount and rate of interest\n",
        "        Return the simple interest'''\n",
        "    ans = 0\n",
        "    ans = (time*pa*ir)/100\n",
        "    time = int(input())\n",
        "    pa = int(input())\n",
        "    ir = int(input())\n",
        "     \n",
        "    \n",
        "    simple_int(time,pa,ir)\n",
        "    \n",
        "    return round(ans,2)"
      ],
      "metadata": {
        "id": "G-lIS7s8w6ob"
      },
      "execution_count": null,
      "outputs": []
    },
    {
      "cell_type": "code",
      "source": [
        "n = int(input())\n",
        "\n",
        "for i in range(n):\n",
        "  for j in range(n):\n",
        "    print(max((j+1), (i+1),(n-j), (n-i)), end = \" \")\n",
        "  print()"
      ],
      "metadata": {
        "id": "yl_bM4kw8VEU",
        "colab": {
          "base_uri": "https://localhost:8080/"
        },
        "outputId": "829f2913-b931-4ea5-9d2b-b3a47ff0c27c"
      },
      "execution_count": null,
      "outputs": [
        {
          "output_type": "stream",
          "name": "stdout",
          "text": [
            "5\n",
            "5 5 5 5 5 \n",
            "5 4 4 4 5 \n",
            "5 4 3 4 5 \n",
            "5 4 4 4 5 \n",
            "5 5 5 5 5 \n"
          ]
        }
      ]
    },
    {
      "cell_type": "code",
      "source": [
        "def car_spec(colour, brand, price):\n",
        "  print(\"colour is :\", colour)\n",
        "  print(\"brand is :\", brand)\n",
        "  print(\"price is :\", price)\n",
        "\n",
        "car_spec(colour = \"Red\", price = 2000, brand = \"Tata\")"
      ],
      "metadata": {
        "id": "ZMO_rwG45rcK",
        "colab": {
          "base_uri": "https://localhost:8080/"
        },
        "outputId": "10d2d1ca-d84f-45bb-e27a-508a8000d55e"
      },
      "execution_count": null,
      "outputs": [
        {
          "output_type": "stream",
          "name": "stdout",
          "text": [
            "colour is : Red\n",
            "brand is : Tata\n",
            "price is : 2000\n"
          ]
        }
      ]
    },
    {
      "cell_type": "code",
      "source": [
        "def random (a=1,b=2,c=3,4):\n"
      ],
      "metadata": {
        "colab": {
          "base_uri": "https://localhost:8080/",
          "height": 131
        },
        "id": "aAkekQy5ZpWX",
        "outputId": "749718ec-f368-4957-b93c-c87b0f420e2a"
      },
      "execution_count": null,
      "outputs": [
        {
          "output_type": "error",
          "ename": "SyntaxError",
          "evalue": "ignored",
          "traceback": [
            "\u001b[0;36m  File \u001b[0;32m\"<ipython-input-4-c31dc8bd861b>\"\u001b[0;36m, line \u001b[0;32m1\u001b[0m\n\u001b[0;31m    def random (a=1,b=2,c=3,4):\u001b[0m\n\u001b[0m                            ^\u001b[0m\n\u001b[0;31mSyntaxError\u001b[0m\u001b[0;31m:\u001b[0m invalid syntax\n"
          ]
        }
      ]
    },
    {
      "cell_type": "code",
      "source": [
        "n = int(input())\n",
        "\n",
        "for i in range(n):\n",
        "  for j in range(n-i):\n",
        "    if i == n:\n",
        "      print(\"*\", end = \" \")\n",
        "    else:\n",
        "      print(\"\", end = \" \")\n",
        "  print()"
      ],
      "metadata": {
        "colab": {
          "base_uri": "https://localhost:8080/"
        },
        "id": "OhY2RXbVdCcL",
        "outputId": "7c8ab743-f2b2-4407-aec5-90e9c73408c6"
      },
      "execution_count": null,
      "outputs": [
        {
          "output_type": "stream",
          "name": "stdout",
          "text": [
            "5\n",
            "     \n",
            "    \n",
            "   \n",
            "  \n",
            " \n"
          ]
        }
      ]
    },
    {
      "cell_type": "code",
      "source": [
        "def simple_int(p, t=3, r=3):\n",
        "  print(p,r,t)"
      ],
      "metadata": {
        "id": "An7ydFNOdeI7"
      },
      "execution_count": null,
      "outputs": []
    },
    {
      "cell_type": "code",
      "source": [
        "simple_int(2,4,6)"
      ],
      "metadata": {
        "colab": {
          "base_uri": "https://localhost:8080/"
        },
        "id": "foGmtO4khI9A",
        "outputId": "cce7c145-3a24-4c5b-e76e-262d11478984"
      },
      "execution_count": null,
      "outputs": [
        {
          "output_type": "stream",
          "name": "stdout",
          "text": [
            "2 6 4\n"
          ]
        }
      ]
    },
    {
      "cell_type": "code",
      "source": [
        "simple_int(2)"
      ],
      "metadata": {
        "colab": {
          "base_uri": "https://localhost:8080/"
        },
        "id": "9KTDANeyhbbS",
        "outputId": "db3a3e51-37fa-4f58-d5f4-8e0ac9421b49"
      },
      "execution_count": null,
      "outputs": [
        {
          "output_type": "stream",
          "name": "stdout",
          "text": [
            "2 3 3\n"
          ]
        }
      ]
    },
    {
      "cell_type": "code",
      "source": [
        "def date(d,m,y,s=0):\n",
        "  if s == 0:\n",
        "    print(d,\"/\",m,\"/\",y)\n",
        "  elif s == 1:\n",
        "    print(m,\"/\",d,\"/\",y)\n",
        "  else:\n",
        "    print(\"invalid style\")\n"
      ],
      "metadata": {
        "id": "FdK3YNGEhesO"
      },
      "execution_count": null,
      "outputs": []
    },
    {
      "cell_type": "code",
      "source": [
        "date(d=23,m=10,y=1992,s=1)"
      ],
      "metadata": {
        "colab": {
          "base_uri": "https://localhost:8080/"
        },
        "id": "BTZTAjdoilNg",
        "outputId": "d5a9eee8-fd3e-4529-acd3-a2e3cbab53fb"
      },
      "execution_count": null,
      "outputs": [
        {
          "output_type": "stream",
          "name": "stdout",
          "text": [
            "10 / 23 / 1992\n"
          ]
        }
      ]
    },
    {
      "cell_type": "code",
      "source": [
        "date(23,10,1992,0)"
      ],
      "metadata": {
        "colab": {
          "base_uri": "https://localhost:8080/"
        },
        "id": "JJ-hCvjYitDX",
        "outputId": "d5a6aae3-bb5a-4ec6-ef56-94888f1d68a9"
      },
      "execution_count": null,
      "outputs": [
        {
          "output_type": "stream",
          "name": "stdout",
          "text": [
            "23 / 10 / 1992\n"
          ]
        }
      ]
    },
    {
      "cell_type": "code",
      "source": [
        "a = 5\n",
        "\n",
        "def"
      ],
      "metadata": {
        "id": "WCAc-INeja16"
      },
      "execution_count": null,
      "outputs": []
    }
  ]
}