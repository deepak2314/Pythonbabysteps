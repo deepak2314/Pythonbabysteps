{
  "nbformat": 4,
  "nbformat_minor": 0,
  "metadata": {
    "colab": {
      "provenance": []
    },
    "kernelspec": {
      "name": "python3",
      "display_name": "Python 3"
    },
    "language_info": {
      "name": "python"
    }
  },
  "cells": [
    {
      "cell_type": "code",
      "execution_count": 1,
      "metadata": {
        "colab": {
          "base_uri": "https://localhost:8080/"
        },
        "id": "zXF3b1Xu29p2",
        "outputId": "53e3847a-1366-4e05-ef49-c907e4c6cc70"
      },
      "outputs": [
        {
          "output_type": "stream",
          "name": "stdout",
          "text": [
            "John\n"
          ]
        }
      ],
      "source": [
        "class People():\n",
        "    def __init__(self, name):\n",
        "        self.name = name\n",
        "\n",
        "    def get_name(self):\n",
        "        print(self.name)\n",
        "\n",
        "person1 = People(\"John\")\n",
        "person2 = People(\"Mary\")\n",
        "person1.get_name()"
      ]
    },
    {
      "cell_type": "code",
      "source": [
        "class fruits:\n",
        "    def __init__(self, price):\n",
        "        self.price = price\n",
        "\n",
        "obj=fruits(50)\n",
        "obj.quantity=10\n",
        "obj.bags=2\n",
        "\n",
        "print(obj.quantity+len(obj.__dict__))"
      ],
      "metadata": {
        "colab": {
          "base_uri": "https://localhost:8080/"
        },
        "id": "8V9IfbDD4lrK",
        "outputId": "73a55fe1-4038-4550-e487-46ab28f81b07"
      },
      "execution_count": 2,
      "outputs": [
        {
          "output_type": "stream",
          "name": "stdout",
          "text": [
            "13\n"
          ]
        }
      ]
    },
    {
      "cell_type": "code",
      "source": [
        "class Player:\n",
        "  # class variables\n",
        "  club = 'United'\n",
        "  sport = 'Football'\n",
        "\n",
        "  def __init__(self, name):\n",
        "    # Instance variable\n",
        "    self.name = name\n",
        "\n",
        "  def show(self):\n",
        "    print('Name:', self.name, 'Club:', self.club, 'Sports:', self.sport, end=\" \")\n",
        "\n",
        "p1 = Player('Sanjay')\n",
        "p1.club = 'Real Madrid'\n",
        "p1.show()\n",
        "\n",
        "p2 = Player('Ravi')\n",
        "p2.sport = 'Tennis'\n",
        "p2.show()"
      ],
      "metadata": {
        "colab": {
          "base_uri": "https://localhost:8080/"
        },
        "id": "ZV0W9UTj43-q",
        "outputId": "43c9c78a-ad98-4ac1-ab41-e664513527b5"
      },
      "execution_count": 3,
      "outputs": [
        {
          "output_type": "stream",
          "name": "stdout",
          "text": [
            "Name: Sanjay Club: Real Madrid Sports: Football Name: Ravi Club: United Sports: Tennis "
          ]
        }
      ]
    },
    {
      "cell_type": "code",
      "source": [
        "class Bill():\n",
        "\n",
        "    def __init__(self, prev_read, cur_read):\n",
        "        #YOUR CODE GOESS HERE\n",
        "        self.prev_read = prev_read\n",
        "        self.cur_read = cur_read\n",
        "    \n",
        "    def total_bill(self):\n",
        "        total=0.0\n",
        "        #YOUR CODE GOESS HERE\n",
        "        unit_consumed = (self.cur_read) - (self.prev_read)\n",
        "\n",
        "        total = 100*3.5 + 100*5 + (unit_consumed - 200)*8 + 150\n",
        "        \n",
        "        return total"
      ],
      "metadata": {
        "colab": {
          "base_uri": "https://localhost:8080/"
        },
        "id": "MXcbAiGr52Bo",
        "outputId": "15e84584-1a14-4459-cf7a-b1d3583efc5b"
      },
      "execution_count": 15,
      "outputs": [
        {
          "output_type": "stream",
          "name": "stdout",
          "text": [
            "<__main__.Bill object at 0x7ffa966ce040>\n"
          ]
        }
      ]
    },
    {
      "cell_type": "code",
      "source": [
        "p1 = Bill(200,650)"
      ],
      "metadata": {
        "id": "q_56Ve7e8g_N"
      },
      "execution_count": 16,
      "outputs": []
    },
    {
      "cell_type": "code",
      "source": [
        "p1.show()"
      ],
      "metadata": {
        "colab": {
          "base_uri": "https://localhost:8080/",
          "height": 166
        },
        "id": "yBu8_fyX8nOQ",
        "outputId": "aaa04e4e-d180-41a2-a53c-ff32c51e4732"
      },
      "execution_count": 17,
      "outputs": [
        {
          "output_type": "error",
          "ename": "AttributeError",
          "evalue": "ignored",
          "traceback": [
            "\u001b[0;31m---------------------------------------------------------------------------\u001b[0m",
            "\u001b[0;31mAttributeError\u001b[0m                            Traceback (most recent call last)",
            "\u001b[0;32m<ipython-input-17-3bad58a050d7>\u001b[0m in \u001b[0;36m<module>\u001b[0;34m\u001b[0m\n\u001b[0;32m----> 1\u001b[0;31m \u001b[0mp1\u001b[0m\u001b[0;34m.\u001b[0m\u001b[0mshow\u001b[0m\u001b[0;34m(\u001b[0m\u001b[0;34m)\u001b[0m\u001b[0;34m\u001b[0m\u001b[0;34m\u001b[0m\u001b[0m\n\u001b[0m",
            "\u001b[0;31mAttributeError\u001b[0m: 'Bill' object has no attribute 'show'"
          ]
        }
      ]
    },
    {
      "cell_type": "markdown",
      "source": [
        "Create a class Bill and initialize it with the details: previous and current meter readings. Create a function total_bill() inside the Bill class which returns the total bill based on the following criteria:\n",
        "\n",
        "1. For the first 100 units consumed: 3.5 rs/unit\n",
        "\n",
        "2. For the next 100 units consumed: 5 rs/unit\n",
        "\n",
        "3. For remaining units consumed: 8 rs/unit\n",
        "\n",
        "4. Meter Charges: 150 rs (It's included only once but is mandatory)"
      ],
      "metadata": {
        "id": "Xp-sm64xA4gq"
      }
    },
    {
      "cell_type": "code",
      "source": [
        "class Bill():\n",
        "\n",
        "  def __init__(self, prev_read, cur_read):\n",
        "    self.prev_read= prev_read\n",
        "    self.cur_read= cur_read\n",
        "\n",
        "  def total_bill(self):\n",
        "    i=1\n",
        "    total=0 \n",
        "    price=3.5\n",
        "    meter_charge=150\n",
        "\n",
        "    consumed= self.cur_read - self.prev_read\n",
        "\n",
        "    if consumed>100:\n",
        "\n",
        "      while consumed//100>0:\n",
        "\n",
        "        if i==1:\n",
        "          price= 3.5\n",
        "        elif i==2:\n",
        "          price= 5\n",
        "        else:\n",
        "          price=8\n",
        "\n",
        "        total= total + 100*price\n",
        "        consumed= consumed-100\n",
        "        i=i+1\n",
        "\n",
        "        if consumed<100:\n",
        "          total= total+ consumed*price\n",
        "\n",
        "    else:\n",
        "      total= consumed*price\n",
        "\n",
        "    return total+ meter_charge"
      ],
      "metadata": {
        "id": "e9OExT3O8t_F"
      },
      "execution_count": 18,
      "outputs": []
    },
    {
      "cell_type": "code",
      "source": [
        "s1 = Bill(200,650)\n",
        "\n",
        "s1.total_bill\n"
      ],
      "metadata": {
        "colab": {
          "base_uri": "https://localhost:8080/"
        },
        "id": "vTG_B4egAuWW",
        "outputId": "8768a998-83f8-4e15-e64d-e1b173114e69"
      },
      "execution_count": 22,
      "outputs": [
        {
          "output_type": "execute_result",
          "data": {
            "text/plain": [
              "<bound method Bill.total_bill of <__main__.Bill object at 0x7ffa966b5190>>"
            ]
          },
          "metadata": {},
          "execution_count": 22
        }
      ]
    },
    {
      "cell_type": "markdown",
      "source": [
        "Problem Description\n",
        "Create a class Student and initialize it with the following class variables:\n",
        "\n",
        "\n",
        "marks in subject 1\n",
        "credit of subject 1\n",
        "marks in subject 2\n",
        "credit of subject 2\n",
        "\n",
        "Create a function gradepointaverage() for the Student class which computes the GPA rounded to two decimals, based on the following criteria of points in a subject :\n",
        "\n",
        "1. If marks>=90:10 points\n",
        "2. If 90>marks>=75: 9 points\n",
        "3. If 75>marks>=60: 8 points\n",
        "4. If 60>marks>=45: 7 points\n",
        "5. If marks<45: 0 points\n",
        "\n",
        "\n",
        "\n",
        "GPA =  \n",
        "creditofsubject1+creditofsubject2\n",
        "(pointsinsubject1∗creditofsubject1+pointsinsubject2∗creditofsubject2)\n",
        "​\n",
        " \n",
        "\n",
        "The points in a subject should be calculated according to the criteria mentioned in the question.\n",
        "Also, implement a special zero case to handle when credits of both subjects are 0, return \"Zero credits for both subjects\"."
      ],
      "metadata": {
        "id": "Syu3Qbt_I4w2"
      }
    },
    {
      "cell_type": "code",
      "source": [
        "class Student():\n",
        "    \n",
        "    def __init__(self, marks1,marks2,credits1, credits2):\n",
        "        #YOUR CODE GOES HERE\n",
        "        self.marks1 = marks1\n",
        "        self.marks2 = marks2\n",
        "        self.credits1 = credits1\n",
        "        self.credits2 = credits2\n",
        "    \n",
        "    def grade_point_average(self):\n",
        "        marks = 0\n",
        "        gpa=0\n",
        "        points = 0\n",
        "\n",
        "        if self.credits1 <= 0 or self.credits2 <= 0:\n",
        "            return(\"Zero credits for both subjects\")\n",
        "\n",
        "        if self.marks1>= 90:\n",
        "            points1 = 10\n",
        "        elif 90 > self.marks1 >= 75:\n",
        "            points1 = 9\n",
        "        elif 75 > self.marks1 >= 60:\n",
        "            points1 = 8\n",
        "        elif 60 > self.marks1 >= 45:\n",
        "            points1 = 7\n",
        "        else:\n",
        "            points1 = 0\n",
        "        \n",
        "        if self.marks2>= 90:\n",
        "            points2 = 10\n",
        "        elif 90 > self.marks2 >= 75:\n",
        "            points2 = 9\n",
        "        elif 75 > self.marks2 >= 60:\n",
        "            points2 = 8\n",
        "        elif 60 > self.marks2 >= 45:\n",
        "            points2 = 7\n",
        "        else:\n",
        "            points2 = 0\n",
        "        \n",
        "        gpa = round((points1*self.credits1)+(points2*self.credits2)/(self.credits1+self.credits2),2)\n",
        "        \n",
        "        #YOUR CODE GOES HERE\n",
        "    \n",
        "        return gpa"
      ],
      "metadata": {
        "id": "WrQ0CbRNBV2w"
      },
      "execution_count": 21,
      "outputs": []
    }
  ]
}