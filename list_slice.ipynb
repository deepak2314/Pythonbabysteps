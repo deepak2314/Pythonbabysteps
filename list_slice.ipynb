{
  "nbformat": 4,
  "nbformat_minor": 0,
  "metadata": {
    "colab": {
      "provenance": []
    },
    "kernelspec": {
      "name": "python3",
      "display_name": "Python 3"
    },
    "language_info": {
      "name": "python"
    }
  },
  "cells": [
    {
      "cell_type": "code",
      "execution_count": 2,
      "metadata": {
        "id": "Wjz5wePia8Rg"
      },
      "outputs": [],
      "source": [
        "# in list position = 1 and list index = 0\n",
        "a =  [1,2,3,4,5,6,7,8,9]\n",
        "\n",
        "B = [a[-5],a[-4],a[-3],a[-2],a[-1]]"
      ]
    },
    {
      "cell_type": "code",
      "source": [
        "B"
      ],
      "metadata": {
        "colab": {
          "base_uri": "https://localhost:8080/"
        },
        "id": "Ix3JJxpLcMn0",
        "outputId": "1b204add-9cc0-4d74-9f9e-464e6cb78457"
      },
      "execution_count": 3,
      "outputs": [
        {
          "output_type": "execute_result",
          "data": {
            "text/plain": [
              "[5, 6, 7, 8, 9]"
            ]
          },
          "metadata": {},
          "execution_count": 3
        }
      ]
    },
    {
      "cell_type": "code",
      "source": [
        "n = len(a)"
      ],
      "metadata": {
        "id": "PpAzn6_BcXwH"
      },
      "execution_count": 4,
      "outputs": []
    },
    {
      "cell_type": "code",
      "source": [
        "b = []\n",
        "for i in range(0,3):\n",
        "  b.append(a[i])\n",
        "\n",
        "print(b)\n"
      ],
      "metadata": {
        "colab": {
          "base_uri": "https://localhost:8080/"
        },
        "id": "ewYLv7S3cfXT",
        "outputId": "3b2d8ac4-62ce-49dd-aae6-716e61c82435"
      },
      "execution_count": 7,
      "outputs": [
        {
          "output_type": "stream",
          "name": "stdout",
          "text": [
            "[1, 2, 3]\n"
          ]
        }
      ]
    },
    {
      "cell_type": "code",
      "source": [
        "b = []\n",
        "\n",
        "n = len(a)\n",
        "\n",
        "for i in range(2,7):\n",
        "  b.append(a[i])\n",
        "print(b)"
      ],
      "metadata": {
        "colab": {
          "base_uri": "https://localhost:8080/"
        },
        "id": "eETYverxde_u",
        "outputId": "7fd809af-b676-4e46-93f6-a2cc729b6061"
      },
      "execution_count": 9,
      "outputs": [
        {
          "output_type": "stream",
          "name": "stdout",
          "text": [
            "[3, 4, 5, 6, 7]\n"
          ]
        }
      ]
    },
    {
      "cell_type": "code",
      "source": [
        "a = [1,2,3,4,5,6,7,9]\n",
        "\n",
        "b = a[2:7]"
      ],
      "metadata": {
        "id": "xLjFPKG8eRXN"
      },
      "execution_count": 10,
      "outputs": []
    },
    {
      "cell_type": "code",
      "source": [
        "b"
      ],
      "metadata": {
        "colab": {
          "base_uri": "https://localhost:8080/"
        },
        "id": "O2T_7U9lgj1e",
        "outputId": "3022b04f-9592-4365-ef82-5f132fb1d358"
      },
      "execution_count": 11,
      "outputs": [
        {
          "output_type": "execute_result",
          "data": {
            "text/plain": [
              "[3, 4, 5, 6, 7]"
            ]
          },
          "metadata": {},
          "execution_count": 11
        }
      ]
    },
    {
      "cell_type": "code",
      "source": [
        "n = len(a)\n",
        "c = a[n-5:n]\n"
      ],
      "metadata": {
        "id": "LzpRcdlLgkuX"
      },
      "execution_count": 12,
      "outputs": []
    },
    {
      "cell_type": "code",
      "source": [
        "c"
      ],
      "metadata": {
        "colab": {
          "base_uri": "https://localhost:8080/"
        },
        "id": "crEsr_lwhI0C",
        "outputId": "acbda580-43e6-4206-b376-4113db72a615"
      },
      "execution_count": 13,
      "outputs": [
        {
          "output_type": "execute_result",
          "data": {
            "text/plain": [
              "[4, 5, 6, 7, 9]"
            ]
          },
          "metadata": {},
          "execution_count": 13
        }
      ]
    },
    {
      "cell_type": "code",
      "source": [
        "a = [1,2,3]\n",
        "\n",
        "n = len(a)\n",
        "\n",
        "d = a[n-1:n]\n",
        "\n",
        "d"
      ],
      "metadata": {
        "colab": {
          "base_uri": "https://localhost:8080/"
        },
        "id": "0phaLdB0hJgf",
        "outputId": "1a1b66af-b5b9-4eca-fd9a-0456c2332e0c"
      },
      "execution_count": 14,
      "outputs": [
        {
          "output_type": "execute_result",
          "data": {
            "text/plain": [
              "[3]"
            ]
          },
          "metadata": {},
          "execution_count": 14
        }
      ]
    },
    {
      "cell_type": "code",
      "source": [
        "b = a[:2]"
      ],
      "metadata": {
        "id": "Y0KiF-Gqhi8R"
      },
      "execution_count": 15,
      "outputs": []
    },
    {
      "cell_type": "code",
      "source": [
        "b\n",
        "\n"
      ],
      "metadata": {
        "colab": {
          "base_uri": "https://localhost:8080/"
        },
        "id": "msBw_oYdh5WI",
        "outputId": "0a0f42c4-c005-4181-cf8c-a6cf24567858"
      },
      "execution_count": 16,
      "outputs": [
        {
          "output_type": "execute_result",
          "data": {
            "text/plain": [
              "[1, 2]"
            ]
          },
          "metadata": {},
          "execution_count": 16
        }
      ]
    },
    {
      "cell_type": "code",
      "source": [
        "b = a[1:]\n",
        "b"
      ],
      "metadata": {
        "colab": {
          "base_uri": "https://localhost:8080/"
        },
        "id": "c-73g3JWh6Rt",
        "outputId": "a9338de0-71e9-4a04-f404-d92332c47142"
      },
      "execution_count": 17,
      "outputs": [
        {
          "output_type": "execute_result",
          "data": {
            "text/plain": [
              "[2, 3]"
            ]
          },
          "metadata": {},
          "execution_count": 17
        }
      ]
    },
    {
      "cell_type": "code",
      "source": [
        "a = [1,2,3,4,5]\n",
        "\n",
        "b = a[5:0]"
      ],
      "metadata": {
        "id": "gpyBiQb7iBuG"
      },
      "execution_count": 18,
      "outputs": []
    },
    {
      "cell_type": "code",
      "source": [
        "b\n"
      ],
      "metadata": {
        "colab": {
          "base_uri": "https://localhost:8080/"
        },
        "id": "oREyknaejPuU",
        "outputId": "dd0bff91-a535-4bcd-e29f-2cd49ffde5c0"
      },
      "execution_count": 19,
      "outputs": [
        {
          "output_type": "execute_result",
          "data": {
            "text/plain": [
              "[]"
            ]
          },
          "metadata": {},
          "execution_count": 19
        }
      ]
    },
    {
      "cell_type": "code",
      "source": [
        "b = a[0:5:2]\n",
        "b"
      ],
      "metadata": {
        "colab": {
          "base_uri": "https://localhost:8080/"
        },
        "id": "Gnwjfd-gjQxB",
        "outputId": "a3386d5b-e929-4b39-e14d-2cf81193d6dd"
      },
      "execution_count": 20,
      "outputs": [
        {
          "output_type": "execute_result",
          "data": {
            "text/plain": [
              "[1, 3, 5]"
            ]
          },
          "metadata": {},
          "execution_count": 20
        }
      ]
    },
    {
      "cell_type": "code",
      "source": [
        "a =[1,2,3,4,5,6]\n",
        "\n",
        "b = a[-1:-3]\n",
        "\n",
        "b"
      ],
      "metadata": {
        "colab": {
          "base_uri": "https://localhost:8080/"
        },
        "id": "6FceK2CWkTVz",
        "outputId": "87014f0a-df91-43bf-998b-41cc04a14b92"
      },
      "execution_count": 24,
      "outputs": [
        {
          "output_type": "execute_result",
          "data": {
            "text/plain": [
              "[]"
            ]
          },
          "metadata": {},
          "execution_count": 24
        }
      ]
    },
    {
      "cell_type": "code",
      "source": [
        "a = [1,2,3,4,5,6,7]\n",
        "\n",
        "b = a[-7:-2]"
      ],
      "metadata": {
        "id": "J74jgsBNpWYo"
      },
      "execution_count": 28,
      "outputs": []
    },
    {
      "cell_type": "code",
      "source": [
        "b"
      ],
      "metadata": {
        "colab": {
          "base_uri": "https://localhost:8080/"
        },
        "id": "Z8EkBUGiqNDj",
        "outputId": "6a6e67d7-6271-440b-94a5-2b6f15382d7c"
      },
      "execution_count": 29,
      "outputs": [
        {
          "output_type": "execute_result",
          "data": {
            "text/plain": [
              "[1, 2, 3, 4, 5]"
            ]
          },
          "metadata": {},
          "execution_count": 29
        }
      ]
    },
    {
      "cell_type": "code",
      "source": [
        "a = [10,20,30,40,50,60,70,80,90,100]\n",
        "\n",
        "print(a[3:5])\n",
        "print(a[:8])\n",
        "print(a[:])\n",
        "print(a[7:])\n",
        "print(a[-2:-5:-1])\n",
        "print(a[-2:-7])\n",
        "print(a[:-5])\n",
        "print(a[-2:])\n",
        "print(a[-8:5])\n",
        "print(a[-8:5:-1])"
      ],
      "metadata": {
        "colab": {
          "base_uri": "https://localhost:8080/"
        },
        "id": "xL1p5r_vqRO7",
        "outputId": "d1810572-0199-4996-8518-082306412915"
      },
      "execution_count": 31,
      "outputs": [
        {
          "output_type": "stream",
          "name": "stdout",
          "text": [
            "[40, 50]\n",
            "[10, 20, 30, 40, 50, 60, 70, 80]\n",
            "[10, 20, 30, 40, 50, 60, 70, 80, 90, 100]\n",
            "[80, 90, 100]\n",
            "[90, 80, 70]\n",
            "[]\n",
            "[10, 20, 30, 40, 50]\n",
            "[90, 100]\n",
            "[30, 40, 50]\n",
            "[]\n"
          ]
        }
      ]
    },
    {
      "cell_type": "code",
      "source": [],
      "metadata": {
        "id": "lbKItN8wwRRV"
      },
      "execution_count": null,
      "outputs": []
    }
  ]
}