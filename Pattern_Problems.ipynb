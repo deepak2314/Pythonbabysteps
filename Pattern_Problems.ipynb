{
  "nbformat": 4,
  "nbformat_minor": 0,
  "metadata": {
    "colab": {
      "provenance": []
    },
    "kernelspec": {
      "name": "python3",
      "display_name": "Python 3"
    },
    "language_info": {
      "name": "python"
    }
  },
  "cells": [
    {
      "cell_type": "code",
      "execution_count": null,
      "metadata": {
        "id": "T7hiS4IUmn0l"
      },
      "outputs": [],
      "source": [
        "n = int(input())\n",
        "\n",
        "for i in range(n):\n",
        "  for j in range(2):\n",
        "    if i == 0 or i == (n-1) and j == 0 or j == 2:\n",
        "      print(\"*\", end = \" \")\n",
        "    else:\n",
        "      print(\" \", end = \" \")\n",
        "    \n",
        "  print()"
      ]
    },
    {
      "cell_type": "code",
      "source": [
        "n = int(input())\n",
        "\n",
        "for i in range(n):\n",
        "  for j in range(n):\n",
        "    if i == 0 or i == (n-1) or j == 0 or j == (n-1):\n",
        "      print(\"*\", end = \" \")\n",
        "    else:\n",
        "      print(\" \", end = \" \")\n",
        "    \n",
        "  print()"
      ],
      "metadata": {
        "colab": {
          "base_uri": "https://localhost:8080/"
        },
        "id": "YZrvZLSmm2z9",
        "outputId": "2e8ca4fa-a1de-4d59-b702-f575d458a395"
      },
      "execution_count": null,
      "outputs": [
        {
          "output_type": "stream",
          "name": "stdout",
          "text": [
            "4\n",
            "* * * * \n",
            "*     * \n",
            "*     * \n",
            "* * * * \n"
          ]
        }
      ]
    },
    {
      "cell_type": "code",
      "source": [
        "N = int(input())\n",
        "\n",
        "for i in range(N,0,-1):\n",
        "  for j in range(1,i+1):\n",
        "    print(\"*\", end = \"\")\n",
        "  print()"
      ],
      "metadata": {
        "id": "NQu7ShDvuTCB",
        "colab": {
          "base_uri": "https://localhost:8080/"
        },
        "outputId": "b20ffa95-8710-4b39-e202-943f6abacb50"
      },
      "execution_count": null,
      "outputs": [
        {
          "output_type": "stream",
          "name": "stdout",
          "text": [
            "6\n",
            "******\n",
            "*****\n",
            "****\n",
            "***\n",
            "**\n",
            "*\n"
          ]
        }
      ]
    },
    {
      "cell_type": "code",
      "source": [],
      "metadata": {
        "id": "WqXom7C3pBDq"
      },
      "execution_count": null,
      "outputs": []
    }
  ]
}