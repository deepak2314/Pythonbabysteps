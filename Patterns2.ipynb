{
  "nbformat": 4,
  "nbformat_minor": 0,
  "metadata": {
    "colab": {
      "provenance": []
    },
    "kernelspec": {
      "name": "python3",
      "display_name": "Python 3"
    },
    "language_info": {
      "name": "python"
    }
  },
  "cells": [
    {
      "cell_type": "code",
      "execution_count": null,
      "metadata": {
        "colab": {
          "base_uri": "https://localhost:8080/"
        },
        "id": "7e1EcZLMSSez",
        "outputId": "3802e63e-9346-472b-de4f-4ff2c45d01e5"
      },
      "outputs": [
        {
          "output_type": "stream",
          "name": "stdout",
          "text": [
            "5\n",
            "*****\n",
            "*****\n",
            "*****\n",
            "*****\n",
            "*****\n"
          ]
        }
      ],
      "source": [
        "N = int(input())\n",
        "\n",
        "for i in range(N):\n",
        "    for j in range(N,0,-1):\n",
        "        print(\"*\", end = \"\")\n",
        "\n",
        "    print()"
      ]
    },
    {
      "cell_type": "code",
      "source": [
        "N = int(input())\n",
        "\n",
        "for i in range(N):\n",
        "  for k in range(i+1):\n",
        "    print(\"*\", end = \"\")\n",
        "  for l in range(N-i-1):\n",
        "    print(\" \", end = \"\")\n",
        "  for j in range(N-i):\n",
        "    print(\"*\", end = \"\")\n",
        "  for l in range(N-i-1):\n",
        "    print(\" \", end = \"\")\n",
        "\n",
        "  print()"
      ],
      "metadata": {
        "colab": {
          "base_uri": "https://localhost:8080/"
        },
        "id": "ycOj5P16Sj7H",
        "outputId": "1ff987bc-3491-4686-af5f-f7c46d7d64f3"
      },
      "execution_count": null,
      "outputs": [
        {
          "output_type": "stream",
          "name": "stdout",
          "text": [
            "5\n",
            "*    *****    \n",
            "**   ****   \n",
            "***  ***  \n",
            "**** ** \n",
            "******\n"
          ]
        }
      ]
    },
    {
      "cell_type": "code",
      "source": [
        "N = int(input())\n",
        "\n",
        "for i in range(N):\n",
        "    for j in range(N-i):\n",
        "      print(\"*\", end = \"\")\n",
        "    for k in range(i):\n",
        "      print(\" \", end = \"\")\n",
        "    for k in range(i):\n",
        "      print(\" \", end = \"\")\n",
        "    for j in range(N-i):\n",
        "      print(\"*\", end = \"\")\n",
        "\n",
        "    print()"
      ],
      "metadata": {
        "colab": {
          "base_uri": "https://localhost:8080/"
        },
        "id": "YFOLCOarS-qG",
        "outputId": "cfae4240-5761-4eba-bd64-4a706865215b"
      },
      "execution_count": null,
      "outputs": [
        {
          "output_type": "stream",
          "name": "stdout",
          "text": [
            "5\n",
            "**********\n",
            "****  ****\n",
            "***    ***\n",
            "**      **\n",
            "*        *\n"
          ]
        }
      ]
    },
    {
      "cell_type": "code",
      "source": [
        "N = int(input())\n",
        "\n",
        "for i in range(1, N+1):\n",
        "    for j in range(N-i+1):\n",
        "        print('*', end='')\n",
        "        \n",
        "        \n",
        "    for j in range(2*(i-1)):\n",
        "        print(' ', end='')\n",
        "        \n",
        "        \n",
        "    for j in range(N-i+1):\n",
        "        print('*', end='')\n",
        "        \n",
        "    print()"
      ],
      "metadata": {
        "colab": {
          "base_uri": "https://localhost:8080/"
        },
        "id": "K6m1DW4LTVKN",
        "outputId": "f15c5eac-6d07-4765-cb3b-3c0d762792d8"
      },
      "execution_count": null,
      "outputs": [
        {
          "output_type": "stream",
          "name": "stdout",
          "text": [
            "5\n",
            "**********\n",
            "****  ****\n",
            "***    ***\n",
            "**      **\n",
            "*        *\n"
          ]
        }
      ]
    },
    {
      "cell_type": "code",
      "source": [
        "n = int(input())\n",
        "\n",
        "for i in range(n):\n",
        "  for j in range(i):\n",
        "    print(\"*\", end = \"\")\n",
        "  for k in range(i,n):\n",
        "    print(\"*\", end = \"\")\n",
        "  print()"
      ],
      "metadata": {
        "colab": {
          "base_uri": "https://localhost:8080/"
        },
        "id": "-udD9PpoYebT",
        "outputId": "9071bb60-5f4f-4ed8-d76e-ef6a65e57b69"
      },
      "execution_count": null,
      "outputs": [
        {
          "output_type": "stream",
          "name": "stdout",
          "text": [
            "5\n",
            "*****\n",
            "*****\n",
            "*****\n",
            "*****\n",
            "*****\n"
          ]
        }
      ]
    },
    {
      "cell_type": "code",
      "source": [
        "n = int(input())\n",
        "\n",
        "for i in range(n):\n",
        "  for j in range(i+1):\n",
        "    print(\"*\", end = \"\")\n",
        "  for k in range(n-i-1):\n",
        "    print(\"*\", end = \"\")\n",
        "  print()\n"
      ],
      "metadata": {
        "colab": {
          "base_uri": "https://localhost:8080/"
        },
        "id": "hjC78xbdfqeM",
        "outputId": "ea1c692e-eaff-4af9-bbd9-cec5c483ef0b"
      },
      "execution_count": null,
      "outputs": [
        {
          "output_type": "stream",
          "name": "stdout",
          "text": [
            "5\n",
            "*****\n",
            "*****\n",
            "*****\n",
            "*****\n",
            "*****\n"
          ]
        }
      ]
    },
    {
      "cell_type": "code",
      "source": [
        "N = int(input())\n",
        "\n",
        "for i in range(N):\n",
        "    for j in range(i+1):\n",
        "      print(\"*\", end = \"\")\n",
        "    for k in range(N-i-1):\n",
        "      print(\" \", end = \"\")\n",
        "    for k in range(N-i-1):\n",
        "      print(\" \", end = \"\")\n",
        "    for j in range(i+1):\n",
        "      print(\"*\", end = \"\")\n",
        "\n",
        "    print()"
      ],
      "metadata": {
        "colab": {
          "base_uri": "https://localhost:8080/"
        },
        "id": "QzjEFiPGhbGV",
        "outputId": "8acaf329-7920-491d-8d11-bd6dcdd53ec8"
      },
      "execution_count": null,
      "outputs": [
        {
          "output_type": "stream",
          "name": "stdout",
          "text": [
            "5\n",
            "*        *\n",
            "**      **\n",
            "***    ***\n",
            "****  ****\n",
            "**********\n"
          ]
        }
      ]
    },
    {
      "cell_type": "code",
      "source": [
        "N = int(input())\n",
        "\n",
        "for i in range(1, N):\n",
        "  for j in range(1,i+1):\n",
        "    print(\"*\", end = \"\")\n",
        "  print()\n",
        "for i in range(N,0,-1):\n",
        "  for j in range(1,i+1):\n",
        "      print(\"*\", end = \"\")\n",
        "  print()"
      ],
      "metadata": {
        "colab": {
          "base_uri": "https://localhost:8080/"
        },
        "id": "Ylply9I1jDpE",
        "outputId": "24429649-3e97-4fb5-e4a4-7893af452920"
      },
      "execution_count": null,
      "outputs": [
        {
          "output_type": "stream",
          "name": "stdout",
          "text": [
            "5\n",
            "*\n",
            "**\n",
            "***\n",
            "****\n",
            "*****\n",
            "****\n",
            "***\n",
            "**\n",
            "*\n"
          ]
        }
      ]
    },
    {
      "cell_type": "code",
      "source": [
        "N = int(input())\n",
        "\n",
        "for i in range(N):\n",
        "  for j in range(N):\n",
        "    if i == 0 or j == 0 or i+j == N-1:\n",
        "      print(\"*\", end = \"\")\n",
        "    else:\n",
        "      print(\"#\", end = \"\")\n",
        "  print()"
      ],
      "metadata": {
        "id": "Edft0VhimA7H",
        "colab": {
          "base_uri": "https://localhost:8080/"
        },
        "outputId": "93393d9a-d246-4456-d15c-6bc1f7934ce0"
      },
      "execution_count": null,
      "outputs": [
        {
          "output_type": "stream",
          "name": "stdout",
          "text": [
            "6\n",
            "******\n",
            "*###*#\n",
            "*##*##\n",
            "*#*###\n",
            "**####\n",
            "*#####\n"
          ]
        }
      ]
    },
    {
      "cell_type": "code",
      "source": [
        "N = int(input())\n",
        "\n",
        "for i in range(N):\n",
        "    for j in range(N-i):\n",
        "        if j == 0 or i == 0 or i+j == (N-1):\n",
        "            print(\"*\", end = \"\")\n",
        "        else:\n",
        "            print(\"-\", end = \"\")\n",
        "    print()"
      ],
      "metadata": {
        "colab": {
          "base_uri": "https://localhost:8080/"
        },
        "id": "Y9J3rEVypmwM",
        "outputId": "e664a99f-6a2f-401e-b71b-1a49f8871fc7"
      },
      "execution_count": null,
      "outputs": [
        {
          "output_type": "stream",
          "name": "stdout",
          "text": [
            "5\n",
            "*****\n",
            "*--*\n",
            "*-*\n",
            "**\n",
            "*\n"
          ]
        }
      ]
    },
    {
      "cell_type": "code",
      "source": [
        "N = int(input())\n",
        "\n",
        "for i in range(N):\n",
        "    for j in range(N):\n",
        "        if j == 0 or i == 0 or i+j == (N-1):\n",
        "            print(\"*\", end = \"\")\n",
        "        else:\n",
        "            print(\"-\", end = \"\")\n",
        "    print()"
      ],
      "metadata": {
        "colab": {
          "base_uri": "https://localhost:8080/"
        },
        "id": "7mSAYzNNuuTw",
        "outputId": "287f2100-5a01-4888-8952-8206191af89f"
      },
      "execution_count": null,
      "outputs": [
        {
          "output_type": "stream",
          "name": "stdout",
          "text": [
            "5\n",
            "*****\n",
            "*--*-\n",
            "*-*--\n",
            "**---\n",
            "*----\n"
          ]
        }
      ]
    },
    {
      "cell_type": "code",
      "source": [
        "N = int(input())\n",
        "\n",
        "for i in range(N):\n",
        "  for j in range(N):\n",
        "    print(\" \", end = \"\")\n",
        "  for k in range(N-i-1):\n",
        "    print(\"*\", end = \" \")\n",
        "  print()"
      ],
      "metadata": {
        "colab": {
          "base_uri": "https://localhost:8080/"
        },
        "id": "1MNh44NduzR9",
        "outputId": "620d3bef-6237-494d-9242-93c3018182cc"
      },
      "execution_count": null,
      "outputs": [
        {
          "output_type": "stream",
          "name": "stdout",
          "text": [
            "5\n",
            "     * * * * \n",
            "     * * * \n",
            "     * * \n",
            "     * \n",
            "     \n"
          ]
        }
      ]
    },
    {
      "cell_type": "code",
      "source": [
        "N = int(input())\n",
        "\n",
        "for i in range(N,0,-1):\n",
        "  for j in range(N-i):\n",
        "    print(\" \", end = \"\")\n",
        "  for k in range(i):\n",
        "    print(\"*\", end = \" \")\n",
        "  print()"
      ],
      "metadata": {
        "colab": {
          "base_uri": "https://localhost:8080/"
        },
        "id": "1BiUe-0N4Yco",
        "outputId": "ecf337f8-f13c-4ce9-d801-52e5a911056d"
      },
      "execution_count": null,
      "outputs": [
        {
          "output_type": "stream",
          "name": "stdout",
          "text": [
            "5\n",
            "* * * * * \n",
            " * * * * \n",
            "  * * * \n",
            "   * * \n",
            "    * \n"
          ]
        }
      ]
    },
    {
      "cell_type": "code",
      "source": [
        "N = int(input())\n",
        "\n",
        "for i in range(1,N+1):\n",
        "  for j in range(1,N-i+1):\n",
        "    print(0, end = \"\")\n",
        "  print()"
      ],
      "metadata": {
        "colab": {
          "base_uri": "https://localhost:8080/"
        },
        "id": "oRWkt-5hAjRn",
        "outputId": "e1c6f44d-b6cd-49ab-c633-f2c4f11cd0f3"
      },
      "execution_count": null,
      "outputs": [
        {
          "output_type": "stream",
          "name": "stdout",
          "text": [
            "5\n",
            "0000\n",
            "000\n",
            "00\n",
            "0\n",
            "\n"
          ]
        }
      ]
    },
    {
      "cell_type": "code",
      "source": [
        "N = int(input())\n",
        "\n",
        "for i in range(1,N+1):\n",
        "  for j in range(1,N-i+1):\n",
        "    print(0, end = \"\")\n",
        "  for k in range(1,N):\n",
        "    print(k, end = \"\")\n",
        "  for l in range(2,i+1):\n",
        "    print(l, end = \"\")\n",
        "  print()"
      ],
      "metadata": {
        "colab": {
          "base_uri": "https://localhost:8080/"
        },
        "id": "Rkci2IEnDhdT",
        "outputId": "df737e26-b424-40dd-83d1-b89b66ab6965"
      },
      "execution_count": null,
      "outputs": [
        {
          "output_type": "stream",
          "name": "stdout",
          "text": [
            "5\n",
            "00001234\n",
            "00012342\n",
            "00123423\n",
            "01234234\n",
            "12342345\n"
          ]
        }
      ]
    },
    {
      "cell_type": "code",
      "source": [
        "N = int(input())\n",
        "\n",
        "for i in range(1,N+1):\n",
        "  for j in range(1,N-i+1):\n",
        "    print(0, end = \"\")\n",
        "  for k in range(0,i+1):\n",
        "    print(k, end = \"\")\n",
        "  print()"
      ],
      "metadata": {
        "colab": {
          "base_uri": "https://localhost:8080/"
        },
        "id": "pbwqvqpiFAer",
        "outputId": "2618af72-2c4e-41f1-d225-2c496d285e2e"
      },
      "execution_count": null,
      "outputs": [
        {
          "output_type": "stream",
          "name": "stdout",
          "text": [
            "5\n",
            "000001\n",
            "000012\n",
            "000123\n",
            "001234\n",
            "012345\n"
          ]
        }
      ]
    },
    {
      "cell_type": "code",
      "source": [],
      "metadata": {
        "id": "2b2mRQaZJRrL"
      },
      "execution_count": null,
      "outputs": []
    }
  ]
}