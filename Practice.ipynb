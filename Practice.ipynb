{
  "nbformat": 4,
  "nbformat_minor": 0,
  "metadata": {
    "colab": {
      "provenance": []
    },
    "kernelspec": {
      "name": "python3",
      "display_name": "Python 3"
    },
    "language_info": {
      "name": "python"
    }
  },
  "cells": [
    {
      "cell_type": "code",
      "execution_count": null,
      "metadata": {
        "colab": {
          "base_uri": "https://localhost:8080/"
        },
        "id": "06wf_pBNkTYq",
        "outputId": "8ba0f20d-f45a-4246-a0ed-aa92a7241a79"
      },
      "outputs": [
        {
          "output_type": "stream",
          "name": "stdout",
          "text": [
            "0\n",
            "1\n",
            "2\n",
            "3\n",
            "4\n",
            "5\n"
          ]
        }
      ],
      "source": [
        "#print all  numbers 1 to 5 using while loop\n",
        "\n",
        "i = 0\n",
        "\n",
        "while i <= 5:\n",
        "  print(i)\n",
        "\n",
        "  i += 1"
      ]
    },
    {
      "cell_type": "code",
      "source": [
        "#print all  numbers 1 to 5 using for loop\n",
        "\n",
        "for i in range(0,6):\n",
        "  print(i)"
      ],
      "metadata": {
        "colab": {
          "base_uri": "https://localhost:8080/"
        },
        "id": "g5KulXfPo6Y0",
        "outputId": "2e8be00e-3f38-4c5f-9c7b-a78f188ffff1"
      },
      "execution_count": null,
      "outputs": [
        {
          "output_type": "stream",
          "name": "stdout",
          "text": [
            "0\n",
            "1\n",
            "2\n",
            "3\n",
            "4\n",
            "5\n"
          ]
        }
      ]
    },
    {
      "cell_type": "code",
      "source": [
        "#to get the count of iterations\n",
        "\n",
        "i = 0\n",
        "\n",
        "count = 0\n",
        "\n",
        "while i <= 20:\n",
        "  if i % 2 == 0:\n",
        "    print(i)\n",
        "    i += 1\n",
        "    count += 1\n",
        "\n",
        "print(count)"
      ],
      "metadata": {
        "colab": {
          "base_uri": "https://localhost:8080/",
          "height": 252
        },
        "id": "dmUXcMY8pJFc",
        "outputId": "1b13e4db-50e0-4373-c3b8-41839caa9d93"
      },
      "execution_count": null,
      "outputs": [
        {
          "output_type": "stream",
          "name": "stdout",
          "text": [
            "0\n"
          ]
        },
        {
          "output_type": "error",
          "ename": "KeyboardInterrupt",
          "evalue": "ignored",
          "traceback": [
            "\u001b[0;31m---------------------------------------------------------------------------\u001b[0m",
            "\u001b[0;31mKeyboardInterrupt\u001b[0m                         Traceback (most recent call last)",
            "\u001b[0;32m<ipython-input-10-df61c4c3ae1f>\u001b[0m in \u001b[0;36m<module>\u001b[0;34m\u001b[0m\n\u001b[1;32m      6\u001b[0m \u001b[0;34m\u001b[0m\u001b[0m\n\u001b[1;32m      7\u001b[0m \u001b[0;32mwhile\u001b[0m \u001b[0mi\u001b[0m \u001b[0;34m<=\u001b[0m \u001b[0;36m20\u001b[0m\u001b[0;34m:\u001b[0m\u001b[0;34m\u001b[0m\u001b[0;34m\u001b[0m\u001b[0m\n\u001b[0;32m----> 8\u001b[0;31m   \u001b[0;32mif\u001b[0m \u001b[0mi\u001b[0m \u001b[0;34m%\u001b[0m \u001b[0;36m2\u001b[0m \u001b[0;34m==\u001b[0m \u001b[0;36m0\u001b[0m\u001b[0;34m:\u001b[0m\u001b[0;34m\u001b[0m\u001b[0;34m\u001b[0m\u001b[0m\n\u001b[0m\u001b[1;32m      9\u001b[0m     \u001b[0mprint\u001b[0m\u001b[0;34m(\u001b[0m\u001b[0mi\u001b[0m\u001b[0;34m)\u001b[0m\u001b[0;34m\u001b[0m\u001b[0;34m\u001b[0m\u001b[0m\n\u001b[1;32m     10\u001b[0m     \u001b[0mi\u001b[0m \u001b[0;34m+=\u001b[0m \u001b[0;36m1\u001b[0m\u001b[0;34m\u001b[0m\u001b[0;34m\u001b[0m\u001b[0m\n",
            "\u001b[0;31mKeyboardInterrupt\u001b[0m: "
          ]
        }
      ]
    },
    {
      "cell_type": "code",
      "source": [
        "n = int(input())\n",
        "\n",
        "i = 1\n",
        "while i <= n:\n",
        "  print(i, end = \" \")\n",
        "\n",
        "  i += 1 "
      ],
      "metadata": {
        "id": "_3iYsPzmqmXX",
        "colab": {
          "base_uri": "https://localhost:8080/"
        },
        "outputId": "beff4ad8-d4f9-40bc-addd-0d8adabb3f7b"
      },
      "execution_count": null,
      "outputs": [
        {
          "output_type": "stream",
          "name": "stdout",
          "text": [
            "10\n",
            "1 2 3 4 5 6 7 8 9 10 "
          ]
        }
      ]
    },
    {
      "cell_type": "code",
      "source": [
        "n = int(input())\n",
        "\n",
        "count = 0\n",
        "i = 1\n",
        "while i <= n:\n",
        "  print(i, end = \" \")\n",
        "  count += 1\n",
        "  \n",
        "  i += 2 \n",
        "print(count)"
      ],
      "metadata": {
        "colab": {
          "base_uri": "https://localhost:8080/"
        },
        "id": "-HW_k1O3RtwF",
        "outputId": "7d2f086c-cd55-4584-fe87-2a2d2f84cd36"
      },
      "execution_count": null,
      "outputs": [
        {
          "output_type": "stream",
          "name": "stdout",
          "text": [
            "5\n",
            "1 3 5 3\n"
          ]
        }
      ]
    },
    {
      "cell_type": "code",
      "source": [
        "n = int(input())\n",
        "\n",
        "m = int(input())\n",
        "\n",
        "while n <= i <= m:\n",
        "  print(i)\n",
        "\n",
        "  i += 3"
      ],
      "metadata": {
        "colab": {
          "base_uri": "https://localhost:8080/"
        },
        "id": "wu1LQsXMUDvE",
        "outputId": "723ff9d4-523a-4a9f-dca1-d54b87dd7454"
      },
      "execution_count": null,
      "outputs": [
        {
          "output_type": "stream",
          "name": "stdout",
          "text": [
            "1\n",
            "20\n",
            "13\n",
            "16\n",
            "19\n"
          ]
        }
      ]
    },
    {
      "cell_type": "code",
      "source": [
        "n = int(input())\n",
        "\n",
        "m = int(input())\n",
        "\n",
        "i = n\n",
        "\n",
        "while i <= m:\n",
        "  print(i)\n",
        "\n",
        "  i+= 3"
      ],
      "metadata": {
        "colab": {
          "base_uri": "https://localhost:8080/"
        },
        "id": "PaOisAgvXcsZ",
        "outputId": "a29d5d22-d2eb-4c5b-ef2b-79f2c002ce11"
      },
      "execution_count": null,
      "outputs": [
        {
          "output_type": "stream",
          "name": "stdout",
          "text": [
            "1\n",
            "10\n",
            "1\n",
            "4\n",
            "7\n",
            "10\n"
          ]
        }
      ]
    },
    {
      "cell_type": "code",
      "source": [
        "n = int(input())\n",
        "\n",
        "m = int(input())\n",
        "\n",
        "i = n\n",
        "while i <= m:\n",
        "  if i % 2 == 0:\n",
        "    print(i)\n",
        "\n",
        "    i += 1"
      ],
      "metadata": {
        "colab": {
          "base_uri": "https://localhost:8080/",
          "height": 269
        },
        "id": "v1TVsryoZGbA",
        "outputId": "b33f1459-a694-4be0-ef68-0d8c1c5c1460"
      },
      "execution_count": null,
      "outputs": [
        {
          "name": "stdout",
          "output_type": "stream",
          "text": [
            "1\n",
            "10\n"
          ]
        },
        {
          "output_type": "error",
          "ename": "KeyboardInterrupt",
          "evalue": "ignored",
          "traceback": [
            "\u001b[0;31m---------------------------------------------------------------------------\u001b[0m",
            "\u001b[0;31mKeyboardInterrupt\u001b[0m                         Traceback (most recent call last)",
            "\u001b[0;32m<ipython-input-16-6c1e562613b9>\u001b[0m in \u001b[0;36m<module>\u001b[0;34m\u001b[0m\n\u001b[1;32m      5\u001b[0m \u001b[0mi\u001b[0m \u001b[0;34m=\u001b[0m \u001b[0mn\u001b[0m\u001b[0;34m\u001b[0m\u001b[0;34m\u001b[0m\u001b[0m\n\u001b[1;32m      6\u001b[0m \u001b[0;32mwhile\u001b[0m \u001b[0mi\u001b[0m \u001b[0;34m<=\u001b[0m \u001b[0mm\u001b[0m\u001b[0;34m:\u001b[0m\u001b[0;34m\u001b[0m\u001b[0;34m\u001b[0m\u001b[0m\n\u001b[0;32m----> 7\u001b[0;31m   \u001b[0;32mif\u001b[0m \u001b[0mi\u001b[0m \u001b[0;34m%\u001b[0m \u001b[0;36m2\u001b[0m \u001b[0;34m==\u001b[0m \u001b[0;36m0\u001b[0m\u001b[0;34m:\u001b[0m\u001b[0;34m\u001b[0m\u001b[0;34m\u001b[0m\u001b[0m\n\u001b[0m\u001b[1;32m      8\u001b[0m     \u001b[0mprint\u001b[0m\u001b[0;34m(\u001b[0m\u001b[0mi\u001b[0m\u001b[0;34m)\u001b[0m\u001b[0;34m\u001b[0m\u001b[0;34m\u001b[0m\u001b[0m\n\u001b[1;32m      9\u001b[0m \u001b[0;34m\u001b[0m\u001b[0m\n",
            "\u001b[0;31mKeyboardInterrupt\u001b[0m: "
          ]
        }
      ]
    },
    {
      "cell_type": "code",
      "source": [
        "n = int(input())\n",
        "\n",
        "i = 1\n",
        "\n",
        "while i <= 10:\n",
        "  print(i * n)\n",
        "\n",
        "  i += 1"
      ],
      "metadata": {
        "colab": {
          "base_uri": "https://localhost:8080/"
        },
        "id": "4hVSerooabeT",
        "outputId": "0d5296d7-e281-4664-d026-bdb79868d8d0"
      },
      "execution_count": null,
      "outputs": [
        {
          "output_type": "stream",
          "name": "stdout",
          "text": [
            "2\n",
            "2\n",
            "4\n",
            "6\n",
            "8\n",
            "10\n",
            "12\n",
            "14\n",
            "16\n",
            "18\n",
            "20\n"
          ]
        }
      ]
    },
    {
      "cell_type": "code",
      "source": [
        "n = int(input()) #testcase problem #nested loop\n",
        "\n",
        "i = 1\n",
        "while i <= n:\n",
        "  print(\"Test case :\",i)\n",
        "  i += 1\n",
        "  m = int(input())\n",
        "\n",
        "  j = 1\n",
        "  while j <=  10:\n",
        "    print(j * m)\n",
        "\n",
        "    j += 1"
      ],
      "metadata": {
        "colab": {
          "base_uri": "https://localhost:8080/"
        },
        "id": "QoBRS7JRa726",
        "outputId": "71a94ae1-84ea-452f-90c1-69401d1bc8a0"
      },
      "execution_count": null,
      "outputs": [
        {
          "output_type": "stream",
          "name": "stdout",
          "text": [
            "2\n",
            "Test case : 1\n",
            "2\n",
            "2\n",
            "4\n",
            "6\n",
            "8\n",
            "10\n",
            "12\n",
            "14\n",
            "16\n",
            "18\n",
            "20\n",
            "Test case : 2\n",
            "3\n",
            "3\n",
            "6\n",
            "9\n",
            "12\n",
            "15\n",
            "18\n",
            "21\n",
            "24\n",
            "27\n",
            "30\n"
          ]
        }
      ]
    },
    {
      "cell_type": "code",
      "source": [
        "n = int(input())\n",
        "\n",
        "i = 1\n",
        "\n",
        "while i <= n:\n",
        "  if i % 2 == 0:\n",
        "    print(i)\n",
        "\n",
        "    i += 1"
      ],
      "metadata": {
        "colab": {
          "base_uri": "https://localhost:8080/",
          "height": 252
        },
        "id": "VEQzhkJ-cT1c",
        "outputId": "74596c97-3032-4720-dfac-275ccf9ed98a"
      },
      "execution_count": null,
      "outputs": [
        {
          "name": "stdout",
          "output_type": "stream",
          "text": [
            "10\n"
          ]
        },
        {
          "output_type": "error",
          "ename": "KeyboardInterrupt",
          "evalue": "ignored",
          "traceback": [
            "\u001b[0;31m---------------------------------------------------------------------------\u001b[0m",
            "\u001b[0;31mKeyboardInterrupt\u001b[0m                         Traceback (most recent call last)",
            "\u001b[0;32m<ipython-input-23-0ba86f5bdb6b>\u001b[0m in \u001b[0;36m<module>\u001b[0;34m\u001b[0m\n\u001b[1;32m      3\u001b[0m \u001b[0mi\u001b[0m \u001b[0;34m=\u001b[0m \u001b[0;36m1\u001b[0m\u001b[0;34m\u001b[0m\u001b[0;34m\u001b[0m\u001b[0m\n\u001b[1;32m      4\u001b[0m \u001b[0;34m\u001b[0m\u001b[0m\n\u001b[0;32m----> 5\u001b[0;31m \u001b[0;32mwhile\u001b[0m \u001b[0mi\u001b[0m \u001b[0;34m<=\u001b[0m \u001b[0mn\u001b[0m\u001b[0;34m:\u001b[0m\u001b[0;34m\u001b[0m\u001b[0;34m\u001b[0m\u001b[0m\n\u001b[0m\u001b[1;32m      6\u001b[0m   \u001b[0;32mif\u001b[0m \u001b[0mi\u001b[0m \u001b[0;34m%\u001b[0m \u001b[0;36m2\u001b[0m \u001b[0;34m==\u001b[0m \u001b[0;36m0\u001b[0m\u001b[0;34m:\u001b[0m\u001b[0;34m\u001b[0m\u001b[0;34m\u001b[0m\u001b[0m\n\u001b[1;32m      7\u001b[0m     \u001b[0mprint\u001b[0m\u001b[0;34m(\u001b[0m\u001b[0mi\u001b[0m\u001b[0;34m)\u001b[0m\u001b[0;34m\u001b[0m\u001b[0;34m\u001b[0m\u001b[0m\n",
            "\u001b[0;31mKeyboardInterrupt\u001b[0m: "
          ]
        }
      ]
    },
    {
      "cell_type": "code",
      "source": [
        "# print all the perfect squares\n",
        "\n",
        "N = int(input())\n",
        "\n",
        "i = 1\n",
        "\n",
        "while i * i <= N:\n",
        "  print(i*i, end = \" \")\n",
        "\n",
        "  i += 1\n"
      ],
      "metadata": {
        "colab": {
          "base_uri": "https://localhost:8080/"
        },
        "id": "uW6cS_BWdhUy",
        "outputId": "ceadc53a-7bce-4489-b722-df59d40f87a0"
      },
      "execution_count": null,
      "outputs": [
        {
          "output_type": "stream",
          "name": "stdout",
          "text": [
            "10\n",
            "1 4 9 "
          ]
        }
      ]
    },
    {
      "cell_type": "code",
      "source": [
        "#how to find the power of a value\n",
        "\n",
        "A = int(input())\n",
        "\n",
        "B = int(input())\n",
        "\n",
        "print(A ** B, end = \" \")"
      ],
      "metadata": {
        "colab": {
          "base_uri": "https://localhost:8080/"
        },
        "id": "8gKas7Qdd-qx",
        "outputId": "4f027742-8812-4a2e-c7f6-efc83f8edba2"
      },
      "execution_count": null,
      "outputs": [
        {
          "output_type": "stream",
          "name": "stdout",
          "text": [
            "2\n",
            "4\n",
            "16 "
          ]
        }
      ]
    },
    {
      "cell_type": "code",
      "source": [
        "#For a given number A, print its multiplication table having the first 10 multiples.\n",
        "\n",
        "A = int(input())\n",
        "\n",
        "i = 1\n",
        "\n",
        "while i <= 10:\n",
        "  print(i, \"*\", A, \"=\", A*i)\n",
        "\n",
        "  i += 1"
      ],
      "metadata": {
        "colab": {
          "base_uri": "https://localhost:8080/"
        },
        "id": "gJYRv36Yeo9f",
        "outputId": "9aa72ebb-60df-4361-ce65-6ce832f7ad8a"
      },
      "execution_count": null,
      "outputs": [
        {
          "output_type": "stream",
          "name": "stdout",
          "text": [
            "10\n",
            "1 * 10 = 10\n",
            "2 * 10 = 20\n",
            "3 * 10 = 30\n",
            "4 * 10 = 40\n",
            "5 * 10 = 50\n",
            "6 * 10 = 60\n",
            "7 * 10 = 70\n",
            "8 * 10 = 80\n",
            "9 * 10 = 90\n",
            "10 * 10 = 100\n"
          ]
        }
      ]
    },
    {
      "cell_type": "code",
      "source": [
        "#Mr. Q has a diary in which he has written a lot of numbers. He is confused about the number of digits in every number he has written. \n",
        "#Mr. Q will provide the different numbers written in the diary and then you have to write a code to find the number of digits in every number he has written.\n",
        "\n",
        "#Note: Total different Numbers are T and for every number (let's say N) you need to find the total number of digits.\n",
        "\n",
        "T = int(input())# total different number\n",
        "\n",
        "i = 1\n",
        "\n",
        "while T > 0:\n",
        "  T -= 1 #no of digits must decrease\n",
        "  N = int(input())# number to which we have identify the no of digits\n",
        "  count = 0\n",
        "  j = 1\n",
        "\n",
        "  if N == 0:\n",
        "    count =1\n",
        "  while N > 0:\n",
        "    count += 1\n",
        "    N = N//10\n",
        "\n",
        "    \n",
        "  print(count)\n",
        "\n",
        "\n"
      ],
      "metadata": {
        "colab": {
          "base_uri": "https://localhost:8080/"
        },
        "id": "Tj6WoPytfEzr",
        "outputId": "941893be-255f-435f-e8a6-069220178650"
      },
      "execution_count": null,
      "outputs": [
        {
          "output_type": "stream",
          "name": "stdout",
          "text": [
            "3\n",
            "10002\n",
            "5\n",
            "123\n",
            "3\n",
            "12\n",
            "2\n"
          ]
        }
      ]
    },
    {
      "cell_type": "code",
      "source": [
        "T = int(input())# total different number\n",
        "\n",
        "i = 1\n",
        "\n",
        "while T > 0:\n",
        "  T -= 1 #no of digits must decrease\n",
        "  N = int(input())# number to which we have identify the no of digits\n",
        "  sum = 0\n",
        "\n",
        "  while N > 0:\n",
        "    sum += N % 10\n",
        "    N = N//10\n",
        "\n",
        "    \n",
        "  print(sum)"
      ],
      "metadata": {
        "colab": {
          "base_uri": "https://localhost:8080/"
        },
        "id": "m7dMl7sahKRZ",
        "outputId": "c7d335c3-23fd-4ac0-a091-02345dd0b19c"
      },
      "execution_count": null,
      "outputs": [
        {
          "output_type": "stream",
          "name": "stdout",
          "text": [
            "2\n",
            "1432\n",
            "10\n",
            "234\n",
            "9\n"
          ]
        }
      ]
    },
    {
      "cell_type": "markdown",
      "source": [
        "Range formula\n",
        "\n",
        "[a,b] = b-a+1(all the elements are included)\n",
        "(a,b) = b-a-1(a and b element is not included)\n",
        "[a,b) = b-a(only a is included and b is excluded)(mostly used in python for range and list)"
      ],
      "metadata": {
        "id": "cxwvK4hakuH2"
      }
    },
    {
      "cell_type": "code",
      "source": [
        "range(0,5)"
      ],
      "metadata": {
        "colab": {
          "base_uri": "https://localhost:8080/"
        },
        "id": "-Qs0KEdKlObA",
        "outputId": "26ad8325-cd72-4d37-c037-b6ba1640a22d"
      },
      "execution_count": null,
      "outputs": [
        {
          "output_type": "execute_result",
          "data": {
            "text/plain": [
              "range(0, 5)"
            ]
          },
          "metadata": {},
          "execution_count": 39
        }
      ]
    },
    {
      "cell_type": "code",
      "source": [
        "list(range(0,5))"
      ],
      "metadata": {
        "colab": {
          "base_uri": "https://localhost:8080/"
        },
        "id": "SsD7szSnmc6h",
        "outputId": "e4cc2bf3-5afe-45c5-8136-f00ca50f25ce"
      },
      "execution_count": null,
      "outputs": [
        {
          "output_type": "execute_result",
          "data": {
            "text/plain": [
              "[0, 1, 2, 3, 4]"
            ]
          },
          "metadata": {},
          "execution_count": 40
        }
      ]
    },
    {
      "cell_type": "code",
      "source": [
        "len(list(range(0,5)))"
      ],
      "metadata": {
        "colab": {
          "base_uri": "https://localhost:8080/"
        },
        "id": "bUIeEGSfmf-3",
        "outputId": "ddbc83fd-7f8e-49bc-9a04-e92a3a801592"
      },
      "execution_count": null,
      "outputs": [
        {
          "output_type": "execute_result",
          "data": {
            "text/plain": [
              "5"
            ]
          },
          "metadata": {},
          "execution_count": 41
        }
      ]
    },
    {
      "cell_type": "code",
      "source": [
        "list(range(5,5))"
      ],
      "metadata": {
        "colab": {
          "base_uri": "https://localhost:8080/"
        },
        "id": "cJLgF9wOmjYq",
        "outputId": "4f25d267-48e1-4782-9bdb-291e4b863aca"
      },
      "execution_count": null,
      "outputs": [
        {
          "output_type": "execute_result",
          "data": {
            "text/plain": [
              "[]"
            ]
          },
          "metadata": {},
          "execution_count": 42
        }
      ]
    },
    {
      "cell_type": "code",
      "source": [
        "list(range(5,1,-1))"
      ],
      "metadata": {
        "colab": {
          "base_uri": "https://localhost:8080/"
        },
        "id": "6bUA5h9Un_kn",
        "outputId": "369d5506-9ff8-4069-c770-fb0d79a4ab0f"
      },
      "execution_count": null,
      "outputs": [
        {
          "output_type": "execute_result",
          "data": {
            "text/plain": [
              "[5, 4, 3, 2]"
            ]
          },
          "metadata": {},
          "execution_count": 44
        }
      ]
    },
    {
      "cell_type": "code",
      "source": [
        "# list only take intergers(both - & +)\n",
        "\n",
        "list(range(-1,5))"
      ],
      "metadata": {
        "colab": {
          "base_uri": "https://localhost:8080/"
        },
        "id": "l1VS7BKZodjf",
        "outputId": "b4b9e24d-df37-459b-cdf0-17df88831288"
      },
      "execution_count": null,
      "outputs": [
        {
          "output_type": "execute_result",
          "data": {
            "text/plain": [
              "[-1, 0, 1, 2, 3, 4]"
            ]
          },
          "metadata": {},
          "execution_count": 45
        }
      ]
    },
    {
      "cell_type": "code",
      "source": [
        "list(range(0,10,2))"
      ],
      "metadata": {
        "colab": {
          "base_uri": "https://localhost:8080/"
        },
        "id": "nPRB6uwco4On",
        "outputId": "c466672a-2f4c-4fe5-dcee-24dd7c4d16bf"
      },
      "execution_count": null,
      "outputs": [
        {
          "output_type": "execute_result",
          "data": {
            "text/plain": [
              "[0, 2, 4, 6, 8]"
            ]
          },
          "metadata": {},
          "execution_count": 46
        }
      ]
    },
    {
      "cell_type": "code",
      "source": [
        "list(range(-9,-1,2))"
      ],
      "metadata": {
        "colab": {
          "base_uri": "https://localhost:8080/"
        },
        "id": "GDVk_4gCvAXY",
        "outputId": "5ca4f4ef-bc69-4f36-831d-b41681bde417"
      },
      "execution_count": null,
      "outputs": [
        {
          "output_type": "execute_result",
          "data": {
            "text/plain": [
              "[-9, -7, -5, -3]"
            ]
          },
          "metadata": {},
          "execution_count": 47
        }
      ]
    },
    {
      "cell_type": "code",
      "source": [
        "list(range(-1,-9,-1))"
      ],
      "metadata": {
        "colab": {
          "base_uri": "https://localhost:8080/"
        },
        "id": "LGHW2H_ivKXb",
        "outputId": "648384da-b87f-4955-9cdf-b680c4fd2c83"
      },
      "execution_count": null,
      "outputs": [
        {
          "output_type": "execute_result",
          "data": {
            "text/plain": [
              "[-1, -2, -3, -4, -5, -6, -7, -8]"
            ]
          },
          "metadata": {},
          "execution_count": 49
        }
      ]
    },
    {
      "cell_type": "code",
      "source": [
        "list(range(-1,-9,1))"
      ],
      "metadata": {
        "colab": {
          "base_uri": "https://localhost:8080/"
        },
        "id": "59EAL-J-v_Lk",
        "outputId": "86dd4319-1fc5-4dc4-9174-f95b3c9fead8"
      },
      "execution_count": null,
      "outputs": [
        {
          "output_type": "execute_result",
          "data": {
            "text/plain": [
              "[]"
            ]
          },
          "metadata": {},
          "execution_count": 50
        }
      ]
    },
    {
      "cell_type": "code",
      "source": [
        "list(range(5,-10,-2))"
      ],
      "metadata": {
        "colab": {
          "base_uri": "https://localhost:8080/"
        },
        "id": "9pCDwLN4w4Su",
        "outputId": "f8c3b07b-b84a-48d8-aab6-fa42da17930c"
      },
      "execution_count": null,
      "outputs": [
        {
          "output_type": "execute_result",
          "data": {
            "text/plain": [
              "[5, 3, 1, -1, -3, -5, -7, -9]"
            ]
          },
          "metadata": {},
          "execution_count": 51
        }
      ]
    },
    {
      "cell_type": "code",
      "source": [
        "N = int(input())\n",
        "\n",
        "for i in range(1,N+1):\n",
        "  print(i)"
      ],
      "metadata": {
        "colab": {
          "base_uri": "https://localhost:8080/"
        },
        "id": "_ZfLKG6axCl0",
        "outputId": "68b22a4c-0ab9-42b4-a724-ac3138fa18b1"
      },
      "execution_count": null,
      "outputs": [
        {
          "output_type": "stream",
          "name": "stdout",
          "text": [
            "10\n",
            "1\n",
            "2\n",
            "3\n",
            "4\n",
            "5\n",
            "6\n",
            "7\n",
            "8\n",
            "9\n",
            "10\n"
          ]
        }
      ]
    },
    {
      "cell_type": "code",
      "source": [
        "#calucluate the sum\n",
        "\n",
        "n = int(input())\n",
        "sum = 0\n",
        "for i in range(1,n+1):\n",
        "  sum = sum + i\n",
        "  \n",
        "print(sum)"
      ],
      "metadata": {
        "colab": {
          "base_uri": "https://localhost:8080/"
        },
        "id": "aZZGfTA0x6tp",
        "outputId": "9363c72f-8887-4aea-fd97-5fd94977be82"
      },
      "execution_count": null,
      "outputs": [
        {
          "output_type": "stream",
          "name": "stdout",
          "text": [
            "4\n",
            "10\n"
          ]
        }
      ]
    },
    {
      "cell_type": "code",
      "source": [
        "#print all the numbers N to 1\n",
        "\n",
        "N = int(input())\n",
        "\n",
        "for i in range(N,0,-1):\n",
        "  print(i, end = \" \")"
      ],
      "metadata": {
        "colab": {
          "base_uri": "https://localhost:8080/"
        },
        "id": "lflRoeNMy2Q1",
        "outputId": "c76e0e9c-1d70-4942-8fe8-9bc9725911ec"
      },
      "execution_count": null,
      "outputs": [
        {
          "output_type": "stream",
          "name": "stdout",
          "text": [
            "10\n",
            "10 9 8 7 6 5 4 3 2 1 "
          ]
        }
      ]
    },
    {
      "cell_type": "markdown",
      "source": [
        "In a range if you want to index from left to right it is postive jump, if right to left it is negetive jump"
      ],
      "metadata": {
        "id": "itHgJx6902fs"
      }
    },
    {
      "cell_type": "code",
      "source": [
        "A = int(input())\n",
        "\n",
        "\n",
        "for i in range(1, A):\n",
        "    if (A % i != 0):\n",
        "        print(\"YES\")\n",
        "    else:\n",
        "        print(\"NO\")\n",
        "    \n",
        "    break"
      ],
      "metadata": {
        "id": "mNmWQwwL1ESq",
        "colab": {
          "base_uri": "https://localhost:8080/"
        },
        "outputId": "6519cd03-4435-4f9e-9ee0-36ffc5f0a249"
      },
      "execution_count": null,
      "outputs": [
        {
          "output_type": "stream",
          "name": "stdout",
          "text": [
            "3\n",
            "NO\n"
          ]
        }
      ]
    },
    {
      "cell_type": "code",
      "source": [
        "# to tell it is a perfect number\n",
        "\n",
        "N = int(input())\n",
        "\n",
        "i = 0\n",
        "\n",
        "while N > 0:\n",
        "  A = int(input())\n",
        "  sum = 0\n",
        "  for i in range(0,A):\n",
        "    sum = sum + i\n",
        "    i += 1\n",
        "\n",
        "  if sum == N:\n",
        "    print(\"perfect number\")\n",
        "  else:\n",
        "    print(\"Inperfect number\")\n",
        "\n",
        "  N -=1"
      ],
      "metadata": {
        "id": "GddMz2AP0jnk",
        "colab": {
          "base_uri": "https://localhost:8080/"
        },
        "outputId": "9eec8ab9-269c-496b-e3ac-6e1a9f3cab10"
      },
      "execution_count": null,
      "outputs": [
        {
          "output_type": "stream",
          "name": "stdout",
          "text": [
            "2\n",
            "34\n",
            "Inperfect number\n",
            "35\n",
            "Inperfect number\n"
          ]
        }
      ]
    },
    {
      "cell_type": "code",
      "source": [
        "#Write a program that accepts T numbers(N) from the user and find reverse of the given number(N).\n",
        "\n",
        "T = int(input())\n",
        "\n",
        "for i in range(T):\n",
        "  N = int(input())\n",
        "  rev_num = 0\n",
        "  rem = 0\n",
        "  while i < N:\n",
        "    rem = N % 10\n",
        "    rev_num = (rev_num*10)+rem\n",
        "    N = N//10\n",
        "  print(rev_num)"
      ],
      "metadata": {
        "colab": {
          "base_uri": "https://localhost:8080/"
        },
        "id": "SJWCTOxLubhm",
        "outputId": "c65dc79b-6f79-4b6c-aca0-b3b274c46572"
      },
      "execution_count": null,
      "outputs": [
        {
          "output_type": "stream",
          "name": "stdout",
          "text": [
            "2\n",
            "1001\n",
            "1001\n",
            "2356\n",
            "6532\n"
          ]
        }
      ]
    },
    {
      "cell_type": "code",
      "source": [
        "24%10\n"
      ],
      "metadata": {
        "colab": {
          "base_uri": "https://localhost:8080/"
        },
        "id": "LYpQ3RMYxpDL",
        "outputId": "2fc2c584-a6dd-47cd-ed5d-5c8843044af0"
      },
      "execution_count": null,
      "outputs": [
        {
          "output_type": "execute_result",
          "data": {
            "text/plain": [
              "4"
            ]
          },
          "metadata": {},
          "execution_count": 11
        }
      ]
    },
    {
      "cell_type": "code",
      "source": [
        "10%2\n"
      ],
      "metadata": {
        "colab": {
          "base_uri": "https://localhost:8080/"
        },
        "id": "Cm1_AkJUx0yO",
        "outputId": "2f12d438-3769-4c29-d2e3-edfa5e548ea1"
      },
      "execution_count": null,
      "outputs": [
        {
          "output_type": "execute_result",
          "data": {
            "text/plain": [
              "0"
            ]
          },
          "metadata": {},
          "execution_count": 12
        }
      ]
    },
    {
      "cell_type": "code",
      "source": [
        "2%3"
      ],
      "metadata": {
        "colab": {
          "base_uri": "https://localhost:8080/"
        },
        "id": "8zWPNbjwx6CV",
        "outputId": "cec7b4d9-dd65-4769-a9eb-5f0a0849aaca"
      },
      "execution_count": null,
      "outputs": [
        {
          "output_type": "execute_result",
          "data": {
            "text/plain": [
              "2"
            ]
          },
          "metadata": {},
          "execution_count": 13
        }
      ]
    },
    {
      "cell_type": "code",
      "source": [
        "#Given an integer A as input, determine whether it is palindromic or not.\n",
        "\n",
        "T = int(input())\n",
        "\n",
        "for i in range(T):\n",
        "  N = int(input())\n",
        "  rev_num = 0\n",
        "  rem = 0\n",
        "  while rem > 0:\n",
        "    rem = N % 10\n",
        "    rev_num = (rev_num*10)+rem\n",
        "    rem = N//10\n",
        "  \n",
        "\n",
        "  if rev_num == N:\n",
        "    print(\"Yes\")\n",
        "  else:\n",
        "    print(\"No\")"
      ],
      "metadata": {
        "colab": {
          "base_uri": "https://localhost:8080/"
        },
        "id": "uXHctEA3x8nh",
        "outputId": "01e832d6-0d26-4f61-94c2-56de9e5c0cba"
      },
      "execution_count": null,
      "outputs": [
        {
          "output_type": "stream",
          "name": "stdout",
          "text": [
            "1\n",
            "1001\n",
            "No\n"
          ]
        }
      ]
    },
    {
      "cell_type": "code",
      "source": [
        "for i in range(1,17,3):\n",
        "  print(i, end = \" \")"
      ],
      "metadata": {
        "id": "MB1qG11c0bSR",
        "colab": {
          "base_uri": "https://localhost:8080/"
        },
        "outputId": "5edc55ea-f001-44b9-8956-5e1def1575cb"
      },
      "execution_count": null,
      "outputs": [
        {
          "output_type": "stream",
          "name": "stdout",
          "text": [
            "1 4 7 10 13 16 "
          ]
        }
      ]
    },
    {
      "cell_type": "code",
      "source": [
        "for i in range(1,44):\n",
        "  if i == 43:\n",
        "    print(i *2, end = \"\")\n",
        "  else:\n",
        "    print(i*2, end = \" \")"
      ],
      "metadata": {
        "colab": {
          "base_uri": "https://localhost:8080/"
        },
        "id": "adJcRuVetbvP",
        "outputId": "4333a5e4-cf71-4450-9ca0-4bfd1ad494d6"
      },
      "execution_count": null,
      "outputs": [
        {
          "output_type": "stream",
          "name": "stdout",
          "text": [
            "2 4 6 8 10 12 14 16 18 20 22 24 26 28 30 32 34 36 38 40 42 44 46 48 50 52 54 56 58 60 62 64 66 68 70 72 74 76 78 80 82 84 86"
          ]
        }
      ]
    },
    {
      "cell_type": "code",
      "source": [
        "number = 1\n",
        "i = 1\n",
        "\n",
        "while i < 44:\n",
        "  if i == 43:\n",
        "    print(i, end = \"\")\n",
        "  else:\n",
        "    print(i, end = \" \")\n",
        "\n",
        "  i = i + 2*number\n",
        "  number += 1\n"
      ],
      "metadata": {
        "colab": {
          "base_uri": "https://localhost:8080/"
        },
        "id": "mxHgLwuxutJc",
        "outputId": "8c64f2bb-5464-448c-d283-b8bbb2cab01d"
      },
      "execution_count": null,
      "outputs": [
        {
          "output_type": "stream",
          "name": "stdout",
          "text": [
            "1 3 7 13 21 31 43"
          ]
        }
      ]
    },
    {
      "cell_type": "code",
      "source": [
        "if True:\n",
        "  pass\n",
        "  "
      ],
      "metadata": {
        "id": "HQUNFekl0cX8"
      },
      "execution_count": null,
      "outputs": []
    },
    {
      "cell_type": "code",
      "source": [
        "if True:\n",
        "  print(\"This has to be passed\")\n",
        "  pass\n",
        "  print(\"The statement is passed\")"
      ],
      "metadata": {
        "colab": {
          "base_uri": "https://localhost:8080/"
        },
        "id": "VuG2WZKxQc0i",
        "outputId": "270c4520-d669-4cd2-e11f-1dd32359d806"
      },
      "execution_count": null,
      "outputs": [
        {
          "output_type": "stream",
          "name": "stdout",
          "text": [
            "This has to be passed\n",
            "The statement is passed\n"
          ]
        }
      ]
    },
    {
      "cell_type": "code",
      "source": [
        "#pass dosnt have any major function and Continue skips the current running loop\n",
        "\n",
        "for i in range(5):\n",
        "  if i == 4:\n",
        "    continue\n",
        "\n",
        "  print(i, end = \" \")"
      ],
      "metadata": {
        "colab": {
          "base_uri": "https://localhost:8080/"
        },
        "id": "OrAsEGM8Q1A6",
        "outputId": "60a73505-453e-4a1f-aeaa-d87bff34cdb7"
      },
      "execution_count": null,
      "outputs": [
        {
          "output_type": "stream",
          "name": "stdout",
          "text": [
            "0 1 2 3 "
          ]
        }
      ]
    },
    {
      "cell_type": "code",
      "source": [
        "for i in range(5):\n",
        "  if i == 4:\n",
        "    break\n",
        "\n",
        "  print(i, end = \" \")"
      ],
      "metadata": {
        "colab": {
          "base_uri": "https://localhost:8080/"
        },
        "id": "TRRzmShkSbD2",
        "outputId": "bc3b7fce-7d76-4546-88ed-c0ea2e396356"
      },
      "execution_count": null,
      "outputs": [
        {
          "output_type": "stream",
          "name": "stdout",
          "text": [
            "0 1 2 3 "
          ]
        }
      ]
    },
    {
      "cell_type": "code",
      "source": [
        "A = int(input())\n",
        "for i in range(A):\n",
        "  N = int(input())\n",
        "  if i == 5:\n",
        "    break\n",
        "\n",
        "  print(i)"
      ],
      "metadata": {
        "colab": {
          "base_uri": "https://localhost:8080/"
        },
        "id": "vQOy8XIZYdJW",
        "outputId": "9367822e-1e37-4798-8341-6386f94b5d05"
      },
      "execution_count": null,
      "outputs": [
        {
          "name": "stdout",
          "output_type": "stream",
          "text": [
            "10\n",
            "2\n",
            "0\n",
            "3\n",
            "1\n",
            "4\n",
            "2\n",
            "5\n",
            "3\n",
            "6\n",
            "4\n",
            "7\n"
          ]
        }
      ]
    },
    {
      "cell_type": "code",
      "source": [
        "i = 0\n",
        "while True:\n",
        "  N = int(input())\n",
        "  if N == 5:\n",
        "    break\n",
        "\n",
        "  print(N) \n"
      ],
      "metadata": {
        "colab": {
          "base_uri": "https://localhost:8080/"
        },
        "id": "pfSshR65ZPzP",
        "outputId": "8b1c6963-3da9-4f78-caff-8610ca5891b4"
      },
      "execution_count": null,
      "outputs": [
        {
          "name": "stdout",
          "output_type": "stream",
          "text": [
            "1\n",
            "1\n",
            "2\n",
            "2\n",
            "3\n",
            "3\n",
            "4\n",
            "4\n",
            "5\n"
          ]
        }
      ]
    },
    {
      "cell_type": "code",
      "source": [
        "#nested loop\n",
        "\n",
        "for i in range(3):\n",
        "  for j in range(4):\n",
        "    print(i,j, end = \" \")"
      ],
      "metadata": {
        "colab": {
          "base_uri": "https://localhost:8080/"
        },
        "id": "I0Jh48ZObKJC",
        "outputId": "25eb9105-664f-47f6-a60d-e22cc6b59f73"
      },
      "execution_count": null,
      "outputs": [
        {
          "output_type": "stream",
          "name": "stdout",
          "text": [
            "0 0 0 1 0 2 0 3 1 0 1 1 1 2 1 3 2 0 2 1 2 2 2 3 "
          ]
        }
      ]
    },
    {
      "cell_type": "code",
      "source": [
        "n = int(input())\n",
        "\n",
        "for i in range(n):\n",
        "  for j in range(n):\n",
        "    print(\"*\", end = \" \")\n",
        "  print()"
      ],
      "metadata": {
        "colab": {
          "base_uri": "https://localhost:8080/"
        },
        "id": "Xtt5SLo5b2Ah",
        "outputId": "2a966beb-71ee-4a96-eeca-4c1f6da09ce7"
      },
      "execution_count": null,
      "outputs": [
        {
          "output_type": "stream",
          "name": "stdout",
          "text": [
            "4\n",
            "* * * * \n",
            "* * * * \n",
            "* * * * \n",
            "* * * * \n"
          ]
        }
      ]
    },
    {
      "cell_type": "code",
      "source": [
        "#GCD < min(A,B) and LCM > max(A,B)\n",
        "\n",
        "A = int(input())\n",
        "\n",
        "B = int(input())\n",
        "\n",
        "GCD = 0\n",
        "GCD <= min(A,B)"
      ],
      "metadata": {
        "colab": {
          "base_uri": "https://localhost:8080/"
        },
        "id": "Y3YN2Aekcgdv",
        "outputId": "43780867-47ac-40a1-f2e1-bb3fdd8db4b3"
      },
      "execution_count": null,
      "outputs": [
        {
          "name": "stdout",
          "output_type": "stream",
          "text": [
            "10\n",
            "20\n"
          ]
        },
        {
          "output_type": "execute_result",
          "data": {
            "text/plain": [
              "True"
            ]
          },
          "metadata": {},
          "execution_count": 20
        }
      ]
    },
    {
      "cell_type": "code",
      "source": [
        "#GCD calculation\n",
        "\n",
        "A = int(input())\n",
        "\n",
        "B = int(input())\n",
        "\n",
        "x = min(A,B)\n",
        "\n",
        "for i in range(x,0,-1):\n",
        "  if A%x == 0 and B%x == 0:\n",
        "    \n",
        "    print(i)\n",
        "\n",
        "    break\n",
        "\n",
        "    i += 1"
      ],
      "metadata": {
        "colab": {
          "base_uri": "https://localhost:8080/"
        },
        "id": "O8NQa21je7ov",
        "outputId": "4adac985-00e5-438b-bd95-03ec7cc53499"
      },
      "execution_count": null,
      "outputs": [
        {
          "output_type": "stream",
          "name": "stdout",
          "text": [
            "16\n",
            "2\n",
            "2\n"
          ]
        }
      ]
    },
    {
      "cell_type": "code",
      "source": [
        "# LCD calculation\n",
        "\n",
        "A = int(input())\n",
        "B = int(input())\n",
        "\n",
        "x = max(A,B)\n",
        "\n",
        "while True:\n",
        "  if x % A == 0 and x % B == 0:\n",
        "    print(x)\n",
        "\n",
        "    break\n",
        "    x += 1"
      ],
      "metadata": {
        "colab": {
          "base_uri": "https://localhost:8080/"
        },
        "id": "rkHsIEQEhDxX",
        "outputId": "7785c9ab-1bb0-4205-c7ef-2226a59b5bd3"
      },
      "execution_count": null,
      "outputs": [
        {
          "output_type": "stream",
          "name": "stdout",
          "text": [
            "2\n",
            "4\n",
            "4\n"
          ]
        }
      ]
    },
    {
      "cell_type": "code",
      "source": [
        "#Given an integer N as input, print the corresponding Numeric Inverted Half Pyramid pattern for N.\n",
        "\n",
        "N = int(input())\n",
        "\n",
        "for i in range(N,0,-1):\n",
        "  for j in range(1,i+1):\n",
        "    if i == j:\n",
        "      print(i, end = \" \")\n",
        "    else:\n",
        "      print(j, end = \"\")\n",
        "    \n",
        "  print()"
      ],
      "metadata": {
        "colab": {
          "base_uri": "https://localhost:8080/"
        },
        "id": "2cXaOTqzirZw",
        "outputId": "46d7fa0a-8df2-4c94-e2ab-7456a5c10bfa"
      },
      "execution_count": null,
      "outputs": [
        {
          "output_type": "stream",
          "name": "stdout",
          "text": [
            "5\n",
            "12345 \n",
            "1234 \n",
            "123 \n",
            "12 \n",
            "1 \n"
          ]
        }
      ]
    },
    {
      "cell_type": "code",
      "source": [
        "N = int(input())\n",
        "\n",
        "for i in range(N,0,-1):\n",
        "  for j in range(1,i+1):\n",
        "    print(j, end = \" \")\n",
        "  print()"
      ],
      "metadata": {
        "colab": {
          "base_uri": "https://localhost:8080/"
        },
        "id": "C6J7JKZHj6Tp",
        "outputId": "16962288-c2d8-4551-f448-0a00cbc807ed"
      },
      "execution_count": null,
      "outputs": [
        {
          "output_type": "stream",
          "name": "stdout",
          "text": [
            "5\n",
            "1 2 3 4 5 \n",
            "1 2 3 4 \n",
            "1 2 3 \n",
            "1 2 \n",
            "1 \n"
          ]
        }
      ]
    },
    {
      "cell_type": "code",
      "source": [
        "N = int(input())\n",
        "\n",
        "for i in range(N+1):\n",
        "  for j in range(2):\n",
        "    print(\"*\", end = \"  \")\n",
        "  print()"
      ],
      "metadata": {
        "colab": {
          "base_uri": "https://localhost:8080/"
        },
        "id": "qF61yji-n7Nu",
        "outputId": "a680a9f9-39a9-4fdd-b4fc-83f091f8b61a"
      },
      "execution_count": null,
      "outputs": [
        {
          "output_type": "stream",
          "name": "stdout",
          "text": [
            "4\n",
            "*  *  \n",
            "*  *  \n",
            "*  *  \n",
            "*  *  \n",
            "*  *  \n"
          ]
        }
      ]
    },
    {
      "cell_type": "code",
      "source": [
        "N = int(input())\n",
        "\n",
        "for i in range(1, N+1):\n",
        "    print(\"*\" , end = \"\")\n",
        "    print(\" \" * (N - 2), end = \"\")\n",
        "    print(\"*\" , end = \"\")\n",
        "    print()"
      ],
      "metadata": {
        "colab": {
          "base_uri": "https://localhost:8080/"
        },
        "id": "KnzQWDRRpv_4",
        "outputId": "e32c40de-193f-4a08-8ca5-9a7590bb98c4"
      },
      "execution_count": null,
      "outputs": [
        {
          "output_type": "stream",
          "name": "stdout",
          "text": [
            "4\n",
            "*  *\n",
            "*  *\n",
            "*  *\n",
            "*  *\n"
          ]
        }
      ]
    },
    {
      "cell_type": "code",
      "source": [
        "N = int(input())\n",
        "\n",
        "for i in range(N):# no of rows \n",
        "  for j in range(1,i+2):# pattern to print the value in the row\n",
        "    if j % 2 == 0:\n",
        "      print(j, end = \"\")\n",
        "    else:\n",
        "      print(\"*\", end = \"\")\n",
        "  \n",
        "  print()\n"
      ],
      "metadata": {
        "colab": {
          "base_uri": "https://localhost:8080/"
        },
        "id": "xAdTEowYqQZA",
        "outputId": "9d70ab1a-670d-42ec-ca41-200ac0d0c901"
      },
      "execution_count": null,
      "outputs": [
        {
          "output_type": "stream",
          "name": "stdout",
          "text": [
            "7\n",
            "*\n",
            "*2\n",
            "*2*\n",
            "*2*4\n",
            "*2*4*\n",
            "*2*4*6\n",
            "*2*4*6*\n"
          ]
        }
      ]
    },
    {
      "cell_type": "code",
      "source": [
        "N = int(input())\n",
        "\n",
        "for i in range(N):# no of rows \n",
        "  for j in range(1,i+2):# pattern to print the value in the row\n",
        "    if j % 2 == 0:\n",
        "      print(\"_\", end = \"\")\n",
        "    else:\n",
        "      print(\"*\", end = \"\")\n",
        "  \n",
        "  print()"
      ],
      "metadata": {
        "colab": {
          "base_uri": "https://localhost:8080/"
        },
        "id": "UgU5y6LH1V3m",
        "outputId": "843ec8df-f386-4447-eb55-8da21061df85"
      },
      "execution_count": null,
      "outputs": [
        {
          "output_type": "stream",
          "name": "stdout",
          "text": [
            "7\n",
            "*\n",
            "*_\n",
            "*_*\n",
            "*_*_\n",
            "*_*_*\n",
            "*_*_*_\n",
            "*_*_*_*\n"
          ]
        }
      ]
    },
    {
      "cell_type": "code",
      "source": [
        "N = int(input())# reverse loop concept\n",
        "\n",
        "for i in range(N,0,-1):\n",
        "  for j in range(i):\n",
        "    print(\"*\", end = \"\")\n",
        "  print()"
      ],
      "metadata": {
        "colab": {
          "base_uri": "https://localhost:8080/"
        },
        "id": "NtHxY-lX3jcQ",
        "outputId": "1f832e1d-a8d9-4070-e4b4-b915bd5b15a4"
      },
      "execution_count": null,
      "outputs": [
        {
          "output_type": "stream",
          "name": "stdout",
          "text": [
            "5\n",
            "*****\n",
            "****\n",
            "***\n",
            "**\n",
            "*\n"
          ]
        }
      ]
    },
    {
      "cell_type": "code",
      "source": [
        "N = int(input())\n",
        "\n",
        "for i in range(N):\n",
        "  for j in range(N-i):\n",
        "    print(\"*\", end = \"\")\n",
        "  print()"
      ],
      "metadata": {
        "colab": {
          "base_uri": "https://localhost:8080/"
        },
        "id": "_PIHnMTo4WoB",
        "outputId": "38c17df4-2c7e-460b-c30b-956fd85339c7"
      },
      "execution_count": null,
      "outputs": [
        {
          "output_type": "stream",
          "name": "stdout",
          "text": [
            "5\n",
            "*****\n",
            "****\n",
            "***\n",
            "**\n",
            "*\n"
          ]
        }
      ]
    },
    {
      "cell_type": "code",
      "source": [
        "N = int(input())\n",
        "\n",
        "for i in range(N):\n",
        "  for j in range(N-i-1):\n",
        "    print(\"_\", end = \"\")\n",
        "  for k in range(i+1):\n",
        "    print(\"*\", end = \"\")\n",
        "  print()"
      ],
      "metadata": {
        "colab": {
          "base_uri": "https://localhost:8080/"
        },
        "id": "aiD9JY6J5pSD",
        "outputId": "5351c858-cc6b-470c-d41a-bec1910f9e3c"
      },
      "execution_count": null,
      "outputs": [
        {
          "output_type": "stream",
          "name": "stdout",
          "text": [
            "5\n",
            "____*\n",
            "___**\n",
            "__***\n",
            "_****\n",
            "*****\n"
          ]
        }
      ]
    },
    {
      "cell_type": "code",
      "source": [
        "N = int(input())\n",
        "\n",
        "for i in range(N):\n",
        "  for j in range(N):\n",
        "    if i == 0 or i == N-1 or j == 0 or j == N-1:\n",
        "      print(\"*\", end = \"\")\n",
        "    else:\n",
        "      print(\" \", end = \"\")\n",
        "  print()"
      ],
      "metadata": {
        "colab": {
          "base_uri": "https://localhost:8080/"
        },
        "id": "h0eHBLwC7nnu",
        "outputId": "aec83a09-173a-4bbc-bc40-559d80832b06"
      },
      "execution_count": null,
      "outputs": [
        {
          "output_type": "stream",
          "name": "stdout",
          "text": [
            "5\n",
            "*****\n",
            "**\n",
            "**\n",
            "**\n",
            "*****\n"
          ]
        }
      ]
    },
    {
      "cell_type": "code",
      "source": [
        "N = int(input())\n",
        "\n",
        "for i in range(N):\n",
        "  for j in range(N):\n",
        "    if i == 0 or i == N-1 or j == 0 or j == N-1:\n",
        "      print(N, end = \"\")\n",
        "    else:\n",
        "      print(\" \", end = \"\")\n",
        "  print()"
      ],
      "metadata": {
        "colab": {
          "base_uri": "https://localhost:8080/"
        },
        "id": "OnYvU3YD-oXt",
        "outputId": "5f893a4c-5111-423a-a7fa-65c0fec9dba4"
      },
      "execution_count": null,
      "outputs": [
        {
          "output_type": "stream",
          "name": "stdout",
          "text": [
            "4\n",
            "****\n",
            "*  *\n",
            "*  *\n",
            "****\n"
          ]
        }
      ]
    },
    {
      "cell_type": "code",
      "source": [
        "N = int(input())\n",
        "\n",
        "for i in range(N):\n",
        "  for j in range(N):\n",
        "    if i == 0 or i == N-1 or j == 0 or j == N-1:\n",
        "      print(N, end = \"\")\n",
        "    if i == i+1 or i == N or j == j+1 or j == N:\n",
        "      print((N-1), end = \"\")\n",
        "  print()"
      ],
      "metadata": {
        "colab": {
          "base_uri": "https://localhost:8080/"
        },
        "id": "D8M4l5APCRR8",
        "outputId": "3c6ec51b-0eb8-478a-de75-6b8ce66c1d8b"
      },
      "execution_count": null,
      "outputs": [
        {
          "output_type": "stream",
          "name": "stdout",
          "text": [
            "5\n",
            "55555\n",
            "55\n",
            "55\n",
            "55\n",
            "55555\n"
          ]
        }
      ]
    },
    {
      "cell_type": "code",
      "source": [
        "N = int(input())\n",
        "\n",
        "for i in range(N):\n",
        "  for j in range(N):\n",
        "    if i == 0 or i == N-1 or j == 0 or j == N-1:\n",
        "      print(N, end = \"\")\n",
        "    if i == i+1 or i == N or j == j+1 or j == N:\n",
        "      print((N-1), end = \"\")\n",
        "  print()"
      ],
      "metadata": {
        "colab": {
          "base_uri": "https://localhost:8080/"
        },
        "id": "4A11sW13EDE5",
        "outputId": "51fdb450-5e6c-4b7b-af18-b9162f945a32"
      },
      "execution_count": null,
      "outputs": [
        {
          "output_type": "stream",
          "name": "stdout",
          "text": [
            "5\n",
            "55555\n",
            "55\n",
            "55\n",
            "55\n",
            "55555\n"
          ]
        }
      ]
    },
    {
      "cell_type": "code",
      "source": [
        "def func(A=1, B =1):\n",
        "  count = 0\n",
        "  while A > 1:\n",
        "    A = A//B\n",
        "    count += 1\n",
        "  return count"
      ],
      "metadata": {
        "id": "6UJDXc_xEP4x"
      },
      "execution_count": null,
      "outputs": []
    },
    {
      "cell_type": "code",
      "source": [
        "def df(M):\n",
        "  n = len(M)\n",
        "  m = len(M[0])\n",
        "\n",
        "  var_1 = M[0][0]\n",
        "\n",
        "  for i in range(n):\n",
        "    num = -1\n",
        "    for j in range(m):\n",
        "      if M[i][j] > num:\n",
        "        num = M[i][j]\n",
        "    if num > var_1:\n",
        "      var_1 = num\n",
        "  return var_1"
      ],
      "metadata": {
        "id": "6MDcoPf2mXdN"
      },
      "execution_count": null,
      "outputs": []
    },
    {
      "cell_type": "code",
      "source": [
        "df([ [1,2,3,4], [4,5,6,7] ])"
      ],
      "metadata": {
        "colab": {
          "base_uri": "https://localhost:8080/"
        },
        "id": "GJ5qbj4dnY2g",
        "outputId": "72f8f5b4-da9c-4526-96ea-ba4bfdf87cbf"
      },
      "execution_count": null,
      "outputs": [
        {
          "output_type": "execute_result",
          "data": {
            "text/plain": [
              "7"
            ]
          },
          "metadata": {},
          "execution_count": 46
        }
      ]
    },
    {
      "cell_type": "code",
      "source": [
        "A = [1,2,3]\n",
        "B = [1,2,3]\n",
        "\n",
        "N = len(B)\n",
        "ds = 0\n",
        "\n",
        "for i in range(N):\n",
        "  ds = ds + (A[i]*B[i])\n",
        "print(ds)"
      ],
      "metadata": {
        "colab": {
          "base_uri": "https://localhost:8080/"
        },
        "id": "bSWTU_bknhjV",
        "outputId": "c9b5bba8-03d3-4c06-8c3c-940d2119dfb1"
      },
      "execution_count": null,
      "outputs": [
        {
          "output_type": "stream",
          "name": "stdout",
          "text": [
            "14\n"
          ]
        }
      ]
    },
    {
      "cell_type": "code",
      "source": [
        "def f1():\n",
        "  print(\"A\")\n",
        "  f2()\n",
        "\n",
        "def f2():\n",
        "  print(\"B\")\n",
        "  f3()\n",
        "\n",
        "def f3():\n",
        "  print(\"C\")\n",
        "\n",
        "f1()\n",
        "\n",
        "\n"
      ],
      "metadata": {
        "colab": {
          "base_uri": "https://localhost:8080/"
        },
        "id": "ieeOIWWKofrx",
        "outputId": "21fca62b-8703-47d7-c3b8-822eab3fa87a"
      },
      "execution_count": null,
      "outputs": [
        {
          "output_type": "stream",
          "name": "stdout",
          "text": [
            "A\n",
            "B\n",
            "C\n"
          ]
        }
      ]
    },
    {
      "cell_type": "code",
      "source": [
        "def f(L):\n",
        "  for i in range(1, len(L)):\n",
        "    if L[i-1] != L[i]:\n",
        "      return False\n",
        "  return True"
      ],
      "metadata": {
        "id": "6jhzakuCppzs"
      },
      "execution_count": null,
      "outputs": []
    },
    {
      "cell_type": "code",
      "source": [
        "f([2,2])"
      ],
      "metadata": {
        "colab": {
          "base_uri": "https://localhost:8080/"
        },
        "id": "YceP2GsGqbER",
        "outputId": "115679ae-939c-4e99-8f05-197fcfecea96"
      },
      "execution_count": null,
      "outputs": [
        {
          "output_type": "execute_result",
          "data": {
            "text/plain": [
              "True"
            ]
          },
          "metadata": {},
          "execution_count": 38
        }
      ]
    },
    {
      "cell_type": "code",
      "source": [
        "def f(L):\n",
        "  return L.count(L[0]) == len(L)"
      ],
      "metadata": {
        "id": "p7vr3ZT2qdfk"
      },
      "execution_count": null,
      "outputs": []
    },
    {
      "cell_type": "code",
      "source": [
        "f([1,1])"
      ],
      "metadata": {
        "colab": {
          "base_uri": "https://localhost:8080/"
        },
        "id": "7RAZs1WErOUs",
        "outputId": "8428c622-615b-45dc-9102-e3e2685fb574"
      },
      "execution_count": null,
      "outputs": [
        {
          "output_type": "execute_result",
          "data": {
            "text/plain": [
              "True"
            ]
          },
          "metadata": {},
          "execution_count": 41
        }
      ]
    },
    {
      "cell_type": "code",
      "source": [
        "def f(L):\n",
        "  N = len(L)\n",
        "  i = 0\n",
        "  while i < N:\n",
        "    if L[i] == L[i+1]:\n",
        "      return True\n",
        "  return False"
      ],
      "metadata": {
        "id": "tjEzQpvwrQyH"
      },
      "execution_count": null,
      "outputs": []
    },
    {
      "cell_type": "code",
      "source": [
        "f([1,1,3])"
      ],
      "metadata": {
        "colab": {
          "base_uri": "https://localhost:8080/"
        },
        "id": "6ty4HhVprnUe",
        "outputId": "95364dff-c0e0-435d-f655-8c7d4b147d72"
      },
      "execution_count": null,
      "outputs": [
        {
          "output_type": "execute_result",
          "data": {
            "text/plain": [
              "True"
            ]
          },
          "metadata": {},
          "execution_count": 25
        }
      ]
    },
    {
      "cell_type": "code",
      "source": [
        "def func(A, B):\n",
        "  count = 0\n",
        "  while A > 1:\n",
        "    A = A//B\n",
        "    count += 1\n",
        "  return count"
      ],
      "metadata": {
        "id": "1410Ii33rpyN"
      },
      "execution_count": null,
      "outputs": []
    },
    {
      "cell_type": "code",
      "source": [
        "func(1,2)"
      ],
      "metadata": {
        "colab": {
          "base_uri": "https://localhost:8080/"
        },
        "id": "P-qWdlbTtW-N",
        "outputId": "1da975a7-e679-438c-9cbe-98618ff88e07"
      },
      "execution_count": null,
      "outputs": [
        {
          "output_type": "execute_result",
          "data": {
            "text/plain": [
              "0"
            ]
          },
          "metadata": {},
          "execution_count": 51
        }
      ]
    },
    {
      "cell_type": "code",
      "source": [
        "1//2"
      ],
      "metadata": {
        "colab": {
          "base_uri": "https://localhost:8080/"
        },
        "id": "LMQyqPc-ttAd",
        "outputId": "5c4191ff-1c7c-496a-de2f-fe3cd48edbdb"
      },
      "execution_count": null,
      "outputs": [
        {
          "output_type": "execute_result",
          "data": {
            "text/plain": [
              "0"
            ]
          },
          "metadata": {},
          "execution_count": 52
        }
      ]
    },
    {
      "cell_type": "code",
      "source": [
        "2**4"
      ],
      "metadata": {
        "colab": {
          "base_uri": "https://localhost:8080/"
        },
        "id": "BlEzPUJGuKW5",
        "outputId": "bc4871cf-06b7-440f-9aa0-601a4f809be9"
      },
      "execution_count": null,
      "outputs": [
        {
          "output_type": "execute_result",
          "data": {
            "text/plain": [
              "16"
            ]
          },
          "metadata": {},
          "execution_count": 50
        }
      ]
    },
    {
      "cell_type": "code",
      "source": [
        "def main():\n",
        "    # YOUR CODE GOES HERE\n",
        "    # Please take input and print output to standard input/output (stdin/stdout)\n",
        "    # E.g. 'input()/raw_input()' for input & 'print' for output\n",
        "    \n",
        "    return 0\n",
        "\n",
        "if __name__ == '__main__':\n",
        "    main()"
      ],
      "metadata": {
        "id": "6IH46svtuRQP"
      },
      "execution_count": null,
      "outputs": []
    },
    {
      "cell_type": "code",
      "source": [
        "A = []\n",
        "N = int(input())\n",
        "\n",
        "\n",
        "for i in range(1,N):\n",
        "    res = min(res, A[i])\n",
        "    \n",
        "    print(res)\n",
        "\n",
        "for i in range(1,N):\n",
        "    res = max(res,A[i])\n",
        "    \n",
        "    print(res)"
      ],
      "metadata": {
        "colab": {
          "base_uri": "https://localhost:8080/",
          "height": 252
        },
        "id": "qDcxGnob1s-8",
        "outputId": "d2f14132-a388-4ae8-f530-7930ffaf5a72"
      },
      "execution_count": null,
      "outputs": [
        {
          "name": "stdout",
          "output_type": "stream",
          "text": [
            "5\n"
          ]
        },
        {
          "output_type": "error",
          "ename": "NameError",
          "evalue": "ignored",
          "traceback": [
            "\u001b[0;31m---------------------------------------------------------------------------\u001b[0m",
            "\u001b[0;31mNameError\u001b[0m                                 Traceback (most recent call last)",
            "\u001b[0;32m<ipython-input-53-460e8239f04a>\u001b[0m in \u001b[0;36m<module>\u001b[0;34m\u001b[0m\n\u001b[1;32m      4\u001b[0m \u001b[0;34m\u001b[0m\u001b[0m\n\u001b[1;32m      5\u001b[0m \u001b[0;32mfor\u001b[0m \u001b[0mi\u001b[0m \u001b[0;32min\u001b[0m \u001b[0mrange\u001b[0m\u001b[0;34m(\u001b[0m\u001b[0;36m1\u001b[0m\u001b[0;34m,\u001b[0m\u001b[0mN\u001b[0m\u001b[0;34m)\u001b[0m\u001b[0;34m:\u001b[0m\u001b[0;34m\u001b[0m\u001b[0;34m\u001b[0m\u001b[0m\n\u001b[0;32m----> 6\u001b[0;31m     \u001b[0mres\u001b[0m \u001b[0;34m=\u001b[0m \u001b[0mmin\u001b[0m\u001b[0;34m(\u001b[0m\u001b[0mres\u001b[0m\u001b[0;34m,\u001b[0m \u001b[0mA\u001b[0m\u001b[0;34m[\u001b[0m\u001b[0mi\u001b[0m\u001b[0;34m]\u001b[0m\u001b[0;34m)\u001b[0m\u001b[0;34m\u001b[0m\u001b[0;34m\u001b[0m\u001b[0m\n\u001b[0m\u001b[1;32m      7\u001b[0m \u001b[0;34m\u001b[0m\u001b[0m\n\u001b[1;32m      8\u001b[0m     \u001b[0mprint\u001b[0m\u001b[0;34m(\u001b[0m\u001b[0mres\u001b[0m\u001b[0;34m)\u001b[0m\u001b[0;34m\u001b[0m\u001b[0;34m\u001b[0m\u001b[0m\n",
            "\u001b[0;31mNameError\u001b[0m: name 'res' is not defined"
          ]
        }
      ]
    },
    {
      "cell_type": "code",
      "source": [
        "def main():\n",
        "    # YOUR CODE GOES HERE\n",
        "    # Please take input and print output to standard input/output (stdin/stdout)\n",
        "    # E.g. 'input()/raw_input()' for input & 'print' for output\n",
        "    T = int(input())\n",
        "    while T > 0:\n",
        "        N = int(input())\n",
        "    \n",
        "        tot = 0\n",
        "        while N > 0:\n",
        "            dig = N% 10\n",
        "            tot = tot + dig\n",
        "            N = N//10\n",
        "        print(tot)\n",
        "    return 0\n",
        "\n",
        "if __name__ == '__main__':\n",
        "    main()"
      ],
      "metadata": {
        "id": "XDv56Gqb1tnt"
      },
      "execution_count": null,
      "outputs": []
    },
    {
      "cell_type": "code",
      "source": [
        "T = int(input())\n",
        "    \n",
        "for i in range (1,T+1):\n",
        "  upper = 0\n",
        "  A = input()\n",
        "  count = 0\n",
        "  for i in A:\n",
        "    if ord(i) >= 65 and ord(i) <= 90:\n",
        "      count += 1\n",
        "  print(count)"
      ],
      "metadata": {
        "colab": {
          "base_uri": "https://localhost:8080/"
        },
        "id": "8HPgEKOM5g49",
        "outputId": "25edc1db-b7f9-4c92-bc1e-a447344f34e4"
      },
      "execution_count": null,
      "outputs": [
        {
          "output_type": "stream",
          "name": "stdout",
          "text": [
            "1\n",
            "My name is Deepak\n",
            "2\n"
          ]
        }
      ]
    },
    {
      "cell_type": "code",
      "source": [],
      "metadata": {
        "id": "uM9ooCFn5ufv"
      },
      "execution_count": null,
      "outputs": []
    }
  ]
}